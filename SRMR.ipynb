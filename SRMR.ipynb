{
 "cells": [
  {
   "cell_type": "code",
   "execution_count": 1,
   "id": "1cdd0f3f",
   "metadata": {},
   "outputs": [],
   "source": [
    "import torchaudio\n",
    "import torchaudio.functional as F\n",
    "from pathlib import Path\n",
    "from srmrpy import SRMR\n",
    "from tqdm.auto import tqdm\n",
    "import numpy as np\n",
    "import torch\n",
    "from shutil import copy"
   ]
  },
  {
   "cell_type": "code",
   "execution_count": 2,
   "id": "5c5f577e",
   "metadata": {},
   "outputs": [],
   "source": [
    "wavs = sorted(list(Path(\"../generated\").rglob(\"*.wav\")))\n",
    "np.random.seed(42)\n",
    "np.random.shuffle(wavs)"
   ]
  },
  {
   "cell_type": "code",
   "execution_count": 3,
   "id": "1b77b722",
   "metadata": {},
   "outputs": [],
   "source": [
    "# max_hours = 10.\n",
    "target_dir = Path(\"dist/baseline\")\n",
    "target_dir.mkdir(exist_ok=True, parents=True)\n",
    "# speaker_freq = {}\n",
    "\n",
    "# with tqdm(total=max_hours) as pbar:\n",
    "#     for wav in wavs:\n",
    "#         if \"original\" not in str(wav):\n",
    "#             lab = Path(str(wav).replace(\".wav\", \".lab\"))\n",
    "#             meta = Path(str(wav).replace(\".wav\", \".meta\"))\n",
    "#             speaker_dir = target_dir / wav.parent.name\n",
    "#             speaker_dir.mkdir(exist_ok=True, parents=True)\n",
    "#             copy(wav, speaker_dir / wav.name)\n",
    "#             copy(lab, speaker_dir / lab.name)\n",
    "#             copy(meta, speaker_dir / meta.name)\n",
    "#             audio, fs = torchaudio.load(wav)\n",
    "#             hours = len(audio[0]) / fs / 3600\n",
    "#             pbar.update(hours)\n",
    "#             if pbar.n >= max_hours:\n",
    "#                 break"
   ]
  },
  {
   "cell_type": "code",
   "execution_count": 4,
   "id": "6445a65f",
   "metadata": {},
   "outputs": [],
   "source": [
    "wavs = list(target_dir.rglob(\"*.wav\"))\n",
    "original_path = Path(\"../data/train-clean-b\")\n",
    "results = {\n",
    "    \"real\": {},\n",
    "    \"synth\": {},\n",
    "}"
   ]
  },
  {
   "cell_type": "code",
   "execution_count": 5,
   "id": "6a659342",
   "metadata": {},
   "outputs": [
    {
     "name": "stdout",
     "output_type": "stream",
     "text": [
      "STFT filter created, time used = 0.0014 seconds\n",
      "Gammatone filter created, time used = 0.0014 seconds\n"
     ]
    },
    {
     "data": {
      "application/vnd.jupyter.widget-view+json": {
       "model_id": "0d6d03a47e134709b0fdfd2fc2d8c357",
       "version_major": 2,
       "version_minor": 0
      },
      "text/plain": [
       "  0%|          | 0/10 [00:00<?, ?it/s]"
      ]
     },
     "metadata": {},
     "output_type": "display_data"
    },
    {
     "name": "stderr",
     "output_type": "stream",
     "text": [
      "/home/christoph/.pyenv/versions/3.8.13/lib/python3.8/site-packages/numpy/core/fromnumeric.py:3432: RuntimeWarning: Mean of empty slice.\n",
      "  return _methods._mean(a, axis=axis, dtype=dtype,\n",
      "/home/christoph/.pyenv/versions/3.8.13/lib/python3.8/site-packages/numpy/core/_methods.py:182: RuntimeWarning: invalid value encountered in divide\n",
      "  ret = um.true_divide(\n"
     ]
    },
    {
     "name": "stdout",
     "output_type": "stream",
     "text": [
      "skipped dist/baseline/2531/2531_156724_000012_000001.wav\n"
     ]
    }
   ],
   "source": [
    "fs = 16_000\n",
    "srmr = SRMR(fs)\n",
    "\n",
    "num_samples = 0\n",
    "r_srmr = []\n",
    "s_srmr = []\n",
    "r_len = 0\n",
    "s_len = 0\n",
    "\n",
    "max_hours = 10\n",
    "\n",
    "with tqdm(total=max_hours) as pbar:\n",
    "    for wav in wavs:\n",
    "        if \"original\" not in str(wav):\n",
    "            synth = wav\n",
    "            real = original_path / wav.parent.name / wav.name\n",
    "            s_audio, s_fs = torchaudio.load(synth)\n",
    "            r_audio, r_fs = torchaudio.load(real)\n",
    "            if s_fs != fs:\n",
    "                s_audio = F.resample(s_audio, s_fs, fs)\n",
    "            if r_fs != fs:\n",
    "                r_audio = F.resample(r_audio, r_fs, fs)\n",
    "            try:\n",
    "                r_len = len(r_audio[0]) / fs / 3600\n",
    "                s_len = len(s_audio[0]) / fs / 3600\n",
    "                s_srmr_val = srmr.srmr(s_audio[0].numpy())[0]\n",
    "                r_srmr_val = srmr.srmr(r_audio[0].numpy())[0]\n",
    "                s_srmr.append(s_srmr_val)\n",
    "                r_srmr.append(r_srmr_val)\n",
    "                num_samples += 1\n",
    "                pbar.update(s_len)\n",
    "                if pbar.n >= max_hours:\n",
    "                    break\n",
    "            except:\n",
    "                print(f\"skipped {wav}\")"
   ]
  },
  {
   "cell_type": "code",
   "execution_count": 6,
   "id": "726e1433",
   "metadata": {},
   "outputs": [],
   "source": [
    "results[\"real\"][\"srmr\"] = np.array(r_srmr)\n",
    "results[\"synth\"][\"srmr\"] = np.array(s_srmr)"
   ]
  },
  {
   "cell_type": "code",
   "execution_count": 7,
   "id": "b43f631e",
   "metadata": {},
   "outputs": [],
   "source": [
    "import seaborn as sns"
   ]
  },
  {
   "cell_type": "code",
   "execution_count": 8,
   "id": "917f3906",
   "metadata": {},
   "outputs": [
    {
     "data": {
      "text/plain": [
       "<AxesSubplot:ylabel='Count'>"
      ]
     },
     "execution_count": 8,
     "metadata": {},
     "output_type": "execute_result"
    },
    {
     "data": {
      "image/png": "[encoded data removed]",
      "text/plain": [
       "<Figure size 432x288 with 1 Axes>"
      ]
     },
     "metadata": {
      "needs_background": "light"
     },
     "output_type": "display_data"
    }
   ],
   "source": [
    "sns.histplot(\n",
    "    x=list(results[\"real\"][\"srmr\"]) + list(results[\"synth\"][\"srmr\"]),\n",
    "    hue=[\"Real\"]*len(results[\"real\"][\"srmr\"])+[\"Synthetic\"]*len(results[\"synth\"][\"srmr\"])\n",
    ")"
   ]
  },
  {
   "cell_type": "code",
   "execution_count": 9,
   "id": "f83cceb0",
   "metadata": {},
   "outputs": [],
   "source": [
    "r_srmr = np.array(r_srmr)\n",
    "r_srmr_norm = (r_srmr-r_srmr.mean())/r_srmr.std()\n",
    "s_srmr = np.array(s_srmr)\n",
    "s_srmr_norm = (s_srmr-r_srmr.mean())/r_srmr.std()"
   ]
  },
  {
   "cell_type": "code",
   "execution_count": 10,
   "id": "ca6f3d03",
   "metadata": {},
   "outputs": [
    {
     "data": {
      "text/plain": [
       "0.9755813351360271"
      ]
     },
     "execution_count": 10,
     "metadata": {},
     "output_type": "execute_result"
    }
   ],
   "source": [
    "np.sum(np.abs(np.sort(r_srmr_norm)-np.sort(s_srmr_norm)))/len(r_srmr)"
   ]
  },
  {
   "cell_type": "code",
   "execution_count": 11,
   "id": "9bfe53c7",
   "metadata": {},
   "outputs": [
    {
     "data": {
      "text/plain": [
       "1.1986733858076648"
      ]
     },
     "execution_count": 11,
     "metadata": {},
     "output_type": "execute_result"
    }
   ],
   "source": [
    "np.sum(np.abs(np.array(r_srmr_norm)-np.array(s_srmr_norm)))/len(r_srmr)"
   ]
  },
  {
   "cell_type": "code",
   "execution_count": 12,
   "id": "e9bc4615",
   "metadata": {},
   "outputs": [],
   "source": [
    "from wada import wada_snr"
   ]
  },
  {
   "cell_type": "code",
   "execution_count": 13,
   "id": "1f9185ef",
   "metadata": {},
   "outputs": [
    {
     "data": {
      "application/vnd.jupyter.widget-view+json": {
       "model_id": "875be4942339495fab170968c6c42cfa",
       "version_major": 2,
       "version_minor": 0
      },
      "text/plain": [
       "  0%|          | 0/10 [00:00<?, ?it/s]"
      ]
     },
     "metadata": {},
     "output_type": "display_data"
    }
   ],
   "source": [
    "fs = 16_000\n",
    "\n",
    "num_samples = 0\n",
    "r_wada = []\n",
    "s_wada = []\n",
    "r_len = 0\n",
    "s_len = 0\n",
    "\n",
    "max_hours = 10\n",
    "\n",
    "with tqdm(total=max_hours) as pbar:\n",
    "    for wav in wavs:\n",
    "        synth = wav\n",
    "        real = original_path / wav.parent.name / wav.name\n",
    "        s_audio, s_fs = torchaudio.load(synth)\n",
    "        r_audio, r_fs = torchaudio.load(real)\n",
    "        if s_fs != fs:\n",
    "            s_audio = F.resample(s_audio, s_fs, fs)\n",
    "        if r_fs != fs:\n",
    "            r_audio = F.resample(r_audio, r_fs, fs)\n",
    "        r_len = len(r_audio[0]) / fs / 3600\n",
    "        s_len = len(s_audio[0]) / fs / 3600\n",
    "        s_wada.append(wada_snr(s_audio[0].numpy()))\n",
    "        r_wada.append(wada_snr(r_audio[0].numpy()))\n",
    "        num_samples += 1\n",
    "        pbar.update(s_len)\n",
    "        if pbar.n >= max_hours:\n",
    "            break"
   ]
  },
  {
   "cell_type": "code",
   "execution_count": 14,
   "id": "c1b743fe",
   "metadata": {},
   "outputs": [],
   "source": [
    "results[\"real\"][\"wada\"] = np.array(r_wada)\n",
    "results[\"synth\"][\"wada\"] = np.array(s_wada)"
   ]
  },
  {
   "cell_type": "code",
   "execution_count": 15,
   "id": "f98997ed",
   "metadata": {},
   "outputs": [
    {
     "data": {
      "text/plain": [
       "<AxesSubplot:ylabel='Count'>"
      ]
     },
     "execution_count": 15,
     "metadata": {},
     "output_type": "execute_result"
    },
    {
     "data": {
      "image/png": "[encoded data removed]",
      "text/plain": [
       "<Figure size 432x288 with 1 Axes>"
      ]
     },
     "metadata": {
      "needs_background": "light"
     },
     "output_type": "display_data"
    }
   ],
   "source": [
    "sns.histplot(\n",
    "    x=list(results[\"real\"][\"wada\"]) + list(results[\"synth\"][\"wada\"]),\n",
    "    hue=[\"Real\"]*len(results[\"real\"][\"wada\"])+[\"Synthetic\"]*len(results[\"synth\"][\"wada\"])\n",
    ")"
   ]
  },
  {
   "cell_type": "code",
   "execution_count": 16,
   "id": "8cc948fc",
   "metadata": {},
   "outputs": [],
   "source": [
    "r_wada_a = np.array(results[\"real\"][\"wada\"])\n",
    "r_wada_norm = (r_wada_a-r_wada_a.mean())/r_wada_a.std()\n",
    "s_wada_a = np.array(results[\"synth\"][\"wada\"])\n",
    "s_wada_norm = (s_wada-r_wada_a.mean())/r_wada_a.std()"
   ]
  },
  {
   "cell_type": "code",
   "execution_count": 17,
   "id": "1a184a37",
   "metadata": {},
   "outputs": [
    {
     "data": {
      "text/plain": [
       "0.5581200005981264"
      ]
     },
     "execution_count": 17,
     "metadata": {},
     "output_type": "execute_result"
    }
   ],
   "source": [
    "np.sum(np.abs(np.sort(r_wada_norm)-np.sort(s_wada_norm)))/len(r_srmr)"
   ]
  },
  {
   "cell_type": "code",
   "execution_count": 18,
   "id": "c91879a5",
   "metadata": {},
   "outputs": [
    {
     "data": {
      "text/plain": [
       "0.6910846431908786"
      ]
     },
     "execution_count": 18,
     "metadata": {},
     "output_type": "execute_result"
    }
   ],
   "source": [
    "np.sum(np.abs(np.array(r_wada_norm)-np.array(s_wada_norm)))/len(r_srmr)"
   ]
  },
  {
   "cell_type": "code",
   "execution_count": 19,
   "id": "23ecbe84",
   "metadata": {},
   "outputs": [
    {
     "data": {
      "application/vnd.jupyter.widget-view+json": {
       "model_id": "1e149cf27f3c4a8daca6977662094bf1",
       "version_major": 2,
       "version_minor": 0
      },
      "text/plain": [
       "  0%|          | 0/10 [00:00<?, ?it/s]"
      ]
     },
     "metadata": {},
     "output_type": "display_data"
    },
    {
     "name": "stderr",
     "output_type": "stream",
     "text": [
      "/tmp/ipykernel_6883/2936477886.py:17: UserWarning: concrete shape for linear input & weight are required to decompose into matmul + bias (Triggered internally at  ../torch/csrc/jit/codegen/cuda/graph_fuser.cpp:2077.)\n",
      "  return dvector.embed_utterance(wav2mel(x, fs)).numpy()\n"
     ]
    }
   ],
   "source": [
    "fs = 16_000\n",
    "\n",
    "num_samples = 0\n",
    "r_len = 0\n",
    "s_len = 0\n",
    "\n",
    "r_speakers = {}\n",
    "s_speakers = {}\n",
    "\n",
    "max_hours = 10\n",
    "\n",
    "wav2mel = torch.jit.load(\"models/wav2mel.pt\").eval()\n",
    "dvector = torch.jit.load(\"models/dvector.pt\").eval()\n",
    "\n",
    "def get_dvec(x, fs):\n",
    "    with torch.inference_mode():\n",
    "        return dvector.embed_utterance(wav2mel(x, fs)).numpy()\n",
    "\n",
    "with tqdm(total=max_hours) as pbar:\n",
    "    for wav in wavs:\n",
    "        synth = wav\n",
    "        real = original_path / wav.parent.name / wav.name\n",
    "        if wav.parent.name not in s_speakers:\n",
    "            s_speakers[wav.parent.name] = []\n",
    "            r_speakers[wav.parent.name] = []\n",
    "        s_audio, s_fs = torchaudio.load(synth)\n",
    "        r_audio, r_fs = torchaudio.load(real)\n",
    "        if s_fs != fs:\n",
    "            s_audio = F.resample(s_audio, s_fs, fs)\n",
    "        if r_fs != fs:\n",
    "            r_audio = F.resample(r_audio, r_fs, fs)\n",
    "        r_len = len(r_audio[0]) / fs / 3600\n",
    "        s_len = len(s_audio[0]) / fs / 3600\n",
    "        try:\n",
    "            s_dvec = get_dvec(s_audio, fs)\n",
    "            r_dvec = get_dvec(r_audio, fs)\n",
    "            s_speakers[wav.parent.name].append(s_dvec)\n",
    "            r_speakers[wav.parent.name].append(r_dvec)\n",
    "            num_samples += 1\n",
    "            pbar.update(s_len)\n",
    "            if pbar.n >= max_hours:\n",
    "                break\n",
    "        except:\n",
    "            pass"
   ]
  },
  {
   "cell_type": "code",
   "execution_count": 20,
   "id": "1ccec1f0",
   "metadata": {},
   "outputs": [],
   "source": [
    "r_speaker_mean = [np.mean(v, axis=0) for k, v in r_speakers.items()]\n",
    "s_speaker_mean = [np.mean(v, axis=0) for k, v in s_speakers.items()]"
   ]
  },
  {
   "cell_type": "code",
   "execution_count": 21,
   "id": "731c0695",
   "metadata": {},
   "outputs": [],
   "source": [
    "from sklearn.decomposition import PCA"
   ]
  },
  {
   "cell_type": "code",
   "execution_count": 22,
   "id": "811e8030",
   "metadata": {},
   "outputs": [
    {
     "data": {
      "text/plain": [
       "<AxesSubplot:>"
      ]
     },
     "execution_count": 22,
     "metadata": {},
     "output_type": "execute_result"
    },
    {
     "data": {
      "image/png": "[encoded data removed]",
      "text/plain": [
       "<Figure size 432x288 with 1 Axes>"
      ]
     },
     "metadata": {
      "needs_background": "light"
     },
     "output_type": "display_data"
    }
   ],
   "source": [
    "pca = PCA(n_components=2)\n",
    "r_pcs = pca.fit_transform(r_speaker_mean)\n",
    "s_pcs = pca.transform(s_speaker_mean)\n",
    "sns.scatterplot(x=list(r_pcs[:, 0])+list(s_pcs[:, 0]), y=list(r_pcs[:, 1])+list(s_pcs[:, 1]), hue=[\"Real\"]*len(r_pcs)+[\"Synthetic\"]*len(s_pcs), alpha=0.5)\n",
    "sns.kdeplot(x=list(r_pcs[:, 0])+list(s_pcs[:, 0]), y=list(r_pcs[:, 1])+list(s_pcs[:, 1]), hue=[\"Real\"]*len(r_pcs)+[\"Synthetic\"]*len(s_pcs), fill=True, alpha=0.75, thresh=0.05)"
   ]
  },
  {
   "cell_type": "code",
   "execution_count": 23,
   "id": "a6897d41",
   "metadata": {},
   "outputs": [],
   "source": [
    "results[\"real\"][\"pc1_inter\"] = r_pcs[:, 0]\n",
    "results[\"synth\"][\"pc1_inter\"] = s_pcs[:, 0]\n",
    "results[\"real\"][\"pc2_inter\"] = r_pcs[:, 1]\n",
    "results[\"synth\"][\"pc2_inter\"] = s_pcs[:, 1]"
   ]
  },
  {
   "cell_type": "code",
   "execution_count": 24,
   "id": "ca106121",
   "metadata": {},
   "outputs": [
    {
     "name": "stdout",
     "output_type": "stream",
     "text": [
      "pc1_inter mae 0.008233259826753879\n",
      "pc1_inter w 0.02905732355814946\n",
      "pc2_inter mae 0.011656876317386105\n",
      "pc2_inter w 0.043757910941747045\n"
     ]
    }
   ],
   "source": [
    "for var in [\"pc1_inter\", \"pc2_inter\"]:\n",
    "    mu, std = results[\"real\"][var].mean(), results[\"real\"][var].std()\n",
    "    norm_real = (results[\"real\"][var]-mu)/std\n",
    "    norm_synth = (results[\"synth\"][var]-mu)/std\n",
    "    mae = np.sum(np.abs(np.sort(norm_real)-np.sort(norm_synth)))/len(r_srmr)\n",
    "    w = np.sum(np.abs(np.array(norm_real)-np.array(norm_synth)))/len(r_srmr)\n",
    "    print(var, \"mae\", mae)\n",
    "    print(var, \"w\", w)"
   ]
  },
  {
   "cell_type": "code",
   "execution_count": 25,
   "id": "f11fd4aa",
   "metadata": {},
   "outputs": [],
   "source": [
    "pca = PCA(n_components=1)\n",
    "r_pcs_1 = pca.fit_transform(r_speaker_mean)\n",
    "s_pcs_1 = pca.transform(s_speaker_mean)"
   ]
  },
  {
   "cell_type": "code",
   "execution_count": 26,
   "id": "f3074cda",
   "metadata": {},
   "outputs": [
    {
     "data": {
      "text/plain": [
       "(0.029057520768962265, 0.029057520768962265)"
      ]
     },
     "execution_count": 26,
     "metadata": {},
     "output_type": "execute_result"
    }
   ],
   "source": [
    "mu, std = r_pcs_1.mean(), r_pcs_1.std()\n",
    "norm_real = (r_pcs_1-mu)/std\n",
    "norm_synth = (s_pcs_1-mu)/std\n",
    "mae = np.sum(np.abs(np.sort(norm_real)-np.sort(norm_synth)))/len(r_srmr)\n",
    "w = np.sum(np.abs(np.array(norm_real)-np.array(norm_synth)))/len(r_srmr)\n",
    "mae, w"
   ]
  },
  {
   "cell_type": "code",
   "execution_count": 27,
   "id": "031e9c51",
   "metadata": {},
   "outputs": [],
   "source": [
    "r_pcs_1 = [x[0] for x in r_pcs_1]\n",
    "s_pcs_1 = [x[0] for x in s_pcs_1]"
   ]
  },
  {
   "cell_type": "code",
   "execution_count": 28,
   "id": "7ad4aad0",
   "metadata": {},
   "outputs": [
    {
     "data": {
      "text/plain": [
       "<AxesSubplot:ylabel='Count'>"
      ]
     },
     "execution_count": 28,
     "metadata": {},
     "output_type": "execute_result"
    },
    {
     "data": {
      "image/png": "[encoded data removed]",
      "text/plain": [
       "<Figure size 432x288 with 1 Axes>"
      ]
     },
     "metadata": {
      "needs_background": "light"
     },
     "output_type": "display_data"
    }
   ],
   "source": [
    "sns.histplot(x=list(r_pcs_1) + list(s_pcs_1), hue=[\"Real\"]*len(r_pcs_1)+[\"Synthetic\"]*len(s_pcs_1))"
   ]
  },
  {
   "cell_type": "code",
   "execution_count": 29,
   "id": "b5b8ca4a",
   "metadata": {},
   "outputs": [],
   "source": [
    "r_speaker_intra = []\n",
    "s_speaker_intra = []\n",
    "for k, v in r_speakers.items():\n",
    "    for dvec in v:\n",
    "        r_speaker_intra.append(dvec-np.mean(v, axis=0))\n",
    "for k, v in s_speakers.items():\n",
    "    for dvec in v:\n",
    "        s_speaker_intra.append(dvec-np.mean(v, axis=0))"
   ]
  },
  {
   "cell_type": "code",
   "execution_count": 30,
   "id": "d37ac8dc",
   "metadata": {},
   "outputs": [
    {
     "data": {
      "text/plain": [
       "<AxesSubplot:>"
      ]
     },
     "execution_count": 30,
     "metadata": {},
     "output_type": "execute_result"
    },
    {
     "data": {
      "image/png": "[encoded data removed]",
      "text/plain": [
       "<Figure size 432x288 with 1 Axes>"
      ]
     },
     "metadata": {
      "needs_background": "light"
     },
     "output_type": "display_data"
    }
   ],
   "source": [
    "pca = PCA(n_components=2)\n",
    "r_pcs = pca.fit_transform(r_speaker_intra)\n",
    "s_pcs = pca.transform(s_speaker_intra)\n",
    "sns.scatterplot(x=list(r_pcs[:, 0])+list(s_pcs[:, 0]), y=list(r_pcs[:, 1])+list(s_pcs[:, 1]), hue=[\"Real\"]*len(r_pcs)+[\"Synthetic\"]*len(s_pcs), alpha=0.5)\n",
    "sns.kdeplot(x=list(r_pcs[:, 0])+list(s_pcs[:, 0]), y=list(r_pcs[:, 1])+list(s_pcs[:, 1]), hue=[\"Real\"]*len(r_pcs)+[\"Synthetic\"]*len(s_pcs), fill=True, alpha=0.75, thresh=0.05)"
   ]
  },
  {
   "cell_type": "code",
   "execution_count": 31,
   "id": "9203e0c6",
   "metadata": {},
   "outputs": [],
   "source": [
    "results[\"real\"][\"pc1_intra\"] = r_pcs[:, 0]\n",
    "results[\"synth\"][\"pc1_intra\"] = s_pcs[:, 0]\n",
    "results[\"real\"][\"pc2_intra\"] = r_pcs[:, 1]\n",
    "results[\"synth\"][\"pc2_intra\"] = s_pcs[:, 1]"
   ]
  },
  {
   "cell_type": "code",
   "execution_count": 32,
   "id": "f2734535",
   "metadata": {},
   "outputs": [
    {
     "name": "stdout",
     "output_type": "stream",
     "text": [
      "pc1_intra mae 0.2196668776842287\n",
      "pc1_intra w 0.8361136613170008\n",
      "pc2_intra mae 0.08613853691652808\n",
      "pc2_intra w 1.0298714515605771\n"
     ]
    }
   ],
   "source": [
    "for var in [\"pc1_intra\", \"pc2_intra\"]:\n",
    "    mu, std = results[\"real\"][var].mean(), results[\"real\"][var].std()\n",
    "    norm_real = (results[\"real\"][var]-mu)/std\n",
    "    norm_synth = (results[\"synth\"][var]-mu)/std\n",
    "    mae = np.sum(np.abs(np.sort(norm_real)-np.sort(norm_synth)))/len(r_srmr)\n",
    "    w = np.sum(np.abs(np.array(norm_real)-np.array(norm_synth)))/len(r_srmr)\n",
    "    print(var, \"mae\", mae)\n",
    "    print(var, \"w\", w)"
   ]
  },
  {
   "cell_type": "code",
   "execution_count": 33,
   "id": "7c6dedce",
   "metadata": {},
   "outputs": [
    {
     "data": {
      "text/plain": [
       "0.9755813351360271"
      ]
     },
     "execution_count": 33,
     "metadata": {},
     "output_type": "execute_result"
    }
   ],
   "source": [
    "np.sum(np.abs(np.sort(r_srmr_norm)-np.sort(s_srmr_norm)))/len(r_srmr)"
   ]
  },
  {
   "cell_type": "code",
   "execution_count": 34,
   "id": "ededd2f6",
   "metadata": {},
   "outputs": [
    {
     "data": {
      "text/plain": [
       "1.1986733858076648"
      ]
     },
     "execution_count": 34,
     "metadata": {},
     "output_type": "execute_result"
    }
   ],
   "source": [
    "np.sum(np.abs(np.array(r_srmr_norm)-np.array(s_srmr_norm)))/len(r_srmr)"
   ]
  },
  {
   "cell_type": "code",
   "execution_count": 35,
   "id": "58d3a1f8",
   "metadata": {},
   "outputs": [],
   "source": [
    "import pyworld as pw\n",
    "\n",
    "def get_f0(x, fs):\n",
    "    _f0, t = pw.dio(x, fs)    # raw pitch extractor\n",
    "    f0 = pw.stonemask(x, _f0, t, fs)\n",
    "    return np.mean(f0)"
   ]
  },
  {
   "cell_type": "code",
   "execution_count": 36,
   "id": "4de6d5f2",
   "metadata": {},
   "outputs": [
    {
     "data": {
      "application/vnd.jupyter.widget-view+json": {
       "model_id": "9622181fc5904ec39a02118c40d6353d",
       "version_major": 2,
       "version_minor": 0
      },
      "text/plain": [
       "  0%|          | 0/10 [00:00<?, ?it/s]"
      ]
     },
     "metadata": {},
     "output_type": "display_data"
    }
   ],
   "source": [
    "fs = 16_000\n",
    "\n",
    "num_samples = 0\n",
    "r_wada = []\n",
    "s_wada = []\n",
    "r_len = 0\n",
    "s_len = 0\n",
    "\n",
    "max_hours = 10\n",
    "\n",
    "with tqdm(total=max_hours) as pbar:\n",
    "    for wav in wavs:\n",
    "        synth = wav\n",
    "        real = original_path / wav.parent.name / wav.name\n",
    "        s_audio, s_fs = torchaudio.load(synth)\n",
    "        r_audio, r_fs = torchaudio.load(real)\n",
    "        if s_fs != fs:\n",
    "            s_audio = F.resample(s_audio, s_fs, fs)\n",
    "        s_audio = s_audio / s_audio.max()\n",
    "        if r_fs != fs:\n",
    "            r_audio = F.resample(r_audio, r_fs, fs)\n",
    "        r_audio = r_audio / r_audio.max()\n",
    "        r_len = len(r_audio[0]) / fs / 3600\n",
    "        s_len = len(s_audio[0]) / fs / 3600\n",
    "        s_wada.append(get_f0(s_audio[0].numpy().astype(\"double\"), fs))\n",
    "        r_wada.append(get_f0(r_audio[0].numpy().astype(\"double\"), fs))\n",
    "        num_samples += 1\n",
    "        pbar.update(s_len)\n",
    "        if pbar.n >= max_hours:\n",
    "            break"
   ]
  },
  {
   "cell_type": "code",
   "execution_count": 37,
   "id": "af268c24",
   "metadata": {},
   "outputs": [],
   "source": [
    "results[\"real\"][\"f0\"] = np.array(r_wada)\n",
    "results[\"synth\"][\"f0\"] = np.array(s_wada)"
   ]
  },
  {
   "cell_type": "code",
   "execution_count": 38,
   "id": "e016aae3",
   "metadata": {},
   "outputs": [
    {
     "name": "stdout",
     "output_type": "stream",
     "text": [
      "f0 mae 0.37336150078279473\n",
      "f0 w 0.6007628755489884\n"
     ]
    }
   ],
   "source": [
    "for var in [\"f0\"]:\n",
    "    mu, std = results[\"real\"][var].mean(), results[\"real\"][var].std()\n",
    "    norm_real = (results[\"real\"][var]-mu)/std\n",
    "    norm_synth = (results[\"synth\"][var]-mu)/std\n",
    "    mae = np.sum(np.abs(np.sort(norm_real)-np.sort(norm_synth)))/len(r_srmr)\n",
    "    w = np.sum(np.abs(np.array(norm_real)-np.array(norm_synth)))/len(r_srmr)\n",
    "    print(var, \"mae\", mae)\n",
    "    print(var, \"w\", w)"
   ]
  },
  {
   "cell_type": "code",
   "execution_count": 39,
   "id": "f6506538",
   "metadata": {},
   "outputs": [
    {
     "data": {
      "text/plain": [
       "<AxesSubplot:ylabel='Count'>"
      ]
     },
     "execution_count": 39,
     "metadata": {},
     "output_type": "execute_result"
    },
    {
     "data": {
      "image/png": "[encoded data removed]",
      "text/plain": [
       "<Figure size 432x288 with 1 Axes>"
      ]
     },
     "metadata": {
      "needs_background": "light"
     },
     "output_type": "display_data"
    }
   ],
   "source": [
    "sns.histplot(x=list(results[\"real\"][\"f0\"]) + list(results[\"synth\"][\"f0\"]), hue=[\"Real\"]*len(results[\"real\"][\"f0\"])+[\"Synthetic\"]*len(results[\"synth\"][\"f0\"]))"
   ]
  },
  {
   "cell_type": "code",
   "execution_count": 40,
   "id": "02217e7a",
   "metadata": {},
   "outputs": [
    {
     "data": {
      "application/vnd.jupyter.widget-view+json": {
       "model_id": "3fda186aebc24853b3387a4903801f0e",
       "version_major": 2,
       "version_minor": 0
      },
      "text/plain": [
       "  0%|          | 0/10 [00:00<?, ?it/s]"
      ]
     },
     "metadata": {},
     "output_type": "display_data"
    }
   ],
   "source": [
    "fs = 16_000\n",
    "\n",
    "num_samples = 0\n",
    "r_eng = []\n",
    "s_eng = []\n",
    "r_len = 0\n",
    "s_len = 0\n",
    "\n",
    "max_hours = 10\n",
    "\n",
    "with tqdm(total=max_hours) as pbar:\n",
    "    for wav in wavs:\n",
    "        synth = wav\n",
    "        real = original_path / wav.parent.name / wav.name\n",
    "        s_audio, s_fs = torchaudio.load(synth)\n",
    "        r_audio, r_fs = torchaudio.load(real)\n",
    "        if s_fs != fs:\n",
    "            s_audio = F.resample(s_audio, s_fs, fs)\n",
    "        s_audio = s_audio / s_audio.max()\n",
    "        if r_fs != fs:\n",
    "            r_audio = F.resample(r_audio, r_fs, fs)\n",
    "        r_audio = r_audio / r_audio.max()\n",
    "        r_len_s = len(r_audio[0]) / fs\n",
    "        s_len_s = len(s_audio[0]) / fs\n",
    "        r_energy = np.mean([np.sqrt(np.sum(x.numpy()**2)) for x in np.array_split(r_audio[0], r_len_s * 50)])\n",
    "        s_energy = np.mean([np.sqrt(np.sum(x.numpy()**2)) for x in np.array_split(s_audio[0], r_len_s * 50)])\n",
    "        r_len = r_len_s / 3600\n",
    "        s_len = s_len_s / 3600                    \n",
    "        s_eng.append(s_energy)\n",
    "        r_eng.append(r_energy)\n",
    "        num_samples += 1\n",
    "        pbar.update(s_len)\n",
    "        if pbar.n >= max_hours:\n",
    "            break"
   ]
  },
  {
   "cell_type": "code",
   "execution_count": 41,
   "id": "115dac45",
   "metadata": {},
   "outputs": [],
   "source": [
    "results[\"real\"][\"e\"] = np.array(r_eng)\n",
    "results[\"synth\"][\"e\"] = np.array(s_eng)"
   ]
  },
  {
   "cell_type": "code",
   "execution_count": 42,
   "id": "d01684b9",
   "metadata": {},
   "outputs": [
    {
     "data": {
      "text/plain": [
       "<AxesSubplot:ylabel='Count'>"
      ]
     },
     "execution_count": 42,
     "metadata": {},
     "output_type": "execute_result"
    },
    {
     "data": {
      "image/png": "[encoded data removed]",
      "text/plain": [
       "<Figure size 432x288 with 1 Axes>"
      ]
     },
     "metadata": {
      "needs_background": "light"
     },
     "output_type": "display_data"
    }
   ],
   "source": [
    "sns.histplot(\n",
    "    x=list(results[\"real\"][\"e\"]) + list(results[\"synth\"][\"e\"]),\n",
    "    hue=[\"Real\"]*len(results[\"real\"][\"e\"])+[\"Synthetic\"]*len(results[\"synth\"][\"e\"])\n",
    ")"
   ]
  },
  {
   "cell_type": "code",
   "execution_count": 43,
   "id": "60824e03",
   "metadata": {},
   "outputs": [
    {
     "name": "stdout",
     "output_type": "stream",
     "text": [
      "e mae 0.2024056521719983\n",
      "e w 0.7179619790198704\n"
     ]
    }
   ],
   "source": [
    "for var in [\"e\"]:\n",
    "    mu, std = results[\"real\"][var].mean(), results[\"real\"][var].std()\n",
    "    norm_real = (results[\"real\"][var]-mu)/std\n",
    "    norm_synth = (results[\"synth\"][var]-mu)/std\n",
    "    mae = np.sum(np.abs(np.sort(norm_real)-np.sort(norm_synth)))/len(r_srmr)\n",
    "    w = np.sum(np.abs(np.array(norm_real)-np.array(norm_synth)))/len(r_srmr)\n",
    "    print(var, \"mae\", mae)\n",
    "    print(var, \"w\", w)"
   ]
  },
  {
   "cell_type": "code",
   "execution_count": 44,
   "id": "ceb369d7",
   "metadata": {},
   "outputs": [],
   "source": [
    "import textgrid\n",
    "import pickle"
   ]
  },
  {
   "cell_type": "code",
   "execution_count": 45,
   "id": "3e5dd310",
   "metadata": {},
   "outputs": [
    {
     "data": {
      "application/vnd.jupyter.widget-view+json": {
       "model_id": "321f149b75814eb1a70a55b91a549a74",
       "version_major": 2,
       "version_minor": 0
      },
      "text/plain": [
       "  0%|          | 0/10 [00:00<?, ?it/s]"
      ]
     },
     "metadata": {},
     "output_type": "display_data"
    }
   ],
   "source": [
    "fs = 16_000\n",
    "\n",
    "num_samples = 0\n",
    "r_dur = []\n",
    "s_dur = []\n",
    "r_len = 0\n",
    "s_len = 0\n",
    "\n",
    "max_hours = 10\n",
    "\n",
    "real_sampling_rate = 22050\n",
    "real_hop_length = 256\n",
    "\n",
    "with tqdm(total=max_hours) as pbar:\n",
    "    for wav in wavs:\n",
    "        synth = wav\n",
    "        real = original_path / wav.parent.name / wav.name\n",
    "        real_tgt = real.with_suffix(\".TextGrid\")\n",
    "        tg = textgrid.TextGrid.fromFile(real_tgt)\n",
    "        durations = []\n",
    "        for phone in tg[1]:\n",
    "            if phone.mark.strip() != \"\":\n",
    "                durations.append(int((phone.maxTime - phone.minTime) * real_sampling_rate / real_hop_length))\n",
    "        meta = pickle.load(open(synth.with_suffix(\".meta\"), \"rb\"))\n",
    "        meta_durations = []\n",
    "        for phone, dur in zip(meta['phones'][0].numpy(), meta['durations'][0].numpy()):\n",
    "            if phone > 6:\n",
    "                meta_durations.append(dur)\n",
    "        assert len(durations) == len(meta_durations)\n",
    "        s_audio, s_fs = torchaudio.load(synth)\n",
    "        r_audio, r_fs = torchaudio.load(real)\n",
    "        if s_fs != fs:\n",
    "            s_audio = F.resample(s_audio, s_fs, fs)\n",
    "        s_audio = s_audio / s_audio.max()\n",
    "        if r_fs != fs:\n",
    "            r_audio = F.resample(r_audio, r_fs, fs)\n",
    "        r_audio = r_audio / r_audio.max()\n",
    "        r_len_s = len(r_audio[0]) / fs\n",
    "        s_len_s = len(s_audio[0]) / fs\n",
    "        r_len = r_len_s / 3600\n",
    "        s_len = s_len_s / 3600                    \n",
    "        r_dur.append(np.mean(durations))\n",
    "        s_dur.append(np.mean(meta_durations))\n",
    "        num_samples += 1\n",
    "        pbar.update(s_len)\n",
    "        if pbar.n >= max_hours:\n",
    "            break"
   ]
  },
  {
   "cell_type": "code",
   "execution_count": 46,
   "id": "e4b7e830",
   "metadata": {},
   "outputs": [],
   "source": [
    "results[\"real\"][\"d\"] = np.array(r_dur)\n",
    "results[\"synth\"][\"d\"] = np.array(s_dur)"
   ]
  },
  {
   "cell_type": "code",
   "execution_count": 47,
   "id": "92b3cee7",
   "metadata": {},
   "outputs": [
    {
     "data": {
      "text/plain": [
       "<AxesSubplot:ylabel='Count'>"
      ]
     },
     "execution_count": 47,
     "metadata": {},
     "output_type": "execute_result"
    },
    {
     "data": {
      "image/png": "[encoded data removed]",
      "text/plain": [
       "<Figure size 432x288 with 1 Axes>"
      ]
     },
     "metadata": {
      "needs_background": "light"
     },
     "output_type": "display_data"
    }
   ],
   "source": [
    "sns.histplot(\n",
    "    x=list(results[\"real\"][\"d\"]) + list(results[\"synth\"][\"d\"]),\n",
    "    hue=[\"Real\"]*len(results[\"real\"][\"d\"])+[\"Synthetic\"]*len(results[\"synth\"][\"d\"])\n",
    ")"
   ]
  },
  {
   "cell_type": "code",
   "execution_count": 48,
   "id": "93f01bf5",
   "metadata": {},
   "outputs": [
    {
     "name": "stdout",
     "output_type": "stream",
     "text": [
      "d mae 0.2970677244820577\n",
      "d w 0.47809321569433855\n"
     ]
    }
   ],
   "source": [
    "for var in [\"d\"]:\n",
    "    mu, std = results[\"real\"][var].mean(), results[\"real\"][var].std()\n",
    "    norm_real = (results[\"real\"][var]-mu)/std\n",
    "    norm_synth = (results[\"synth\"][var]-mu)/std\n",
    "    mae = np.sum(np.abs(np.sort(norm_real)-np.sort(norm_synth)))/len(r_srmr)\n",
    "    w = np.sum(np.abs(np.array(norm_real)-np.array(norm_synth)))/len(r_srmr)\n",
    "    print(var, \"mae\", mae)\n",
    "    print(var, \"w\", w)"
   ]
  },
  {
   "cell_type": "code",
   "execution_count": 49,
   "id": "392e829b",
   "metadata": {},
   "outputs": [
    {
     "name": "stdout",
     "output_type": "stream",
     "text": [
      "srmr mae 0.9755813351360271\n",
      "srmr w 1.1986733858076648\n",
      "wada mae 0.5581200005981264\n",
      "wada w 0.6910846431908786\n",
      "pc1_inter mae 0.008233259826753879\n",
      "pc1_inter w 0.02905732355814946\n",
      "pc2_inter mae 0.011656876317386105\n",
      "pc2_inter w 0.043757910941747045\n",
      "pc1_intra mae 0.2196668776842287\n",
      "pc1_intra w 0.8361136613170008\n",
      "pc2_intra mae 0.08613853691652808\n",
      "pc2_intra w 1.0298714515605771\n",
      "f0 mae 0.37336150078279473\n",
      "f0 w 0.6007628755489884\n",
      "e mae 0.2024056521719983\n",
      "e w 0.7179619790198704\n",
      "d mae 0.2970677244820577\n",
      "d w 0.47809321569433855\n"
     ]
    }
   ],
   "source": [
    "for var in results[\"real\"].keys():\n",
    "    mu, std = results[\"real\"][var].mean(), results[\"real\"][var].std()\n",
    "    norm_real = (results[\"real\"][var]-mu)/std\n",
    "    norm_synth = (results[\"synth\"][var]-mu)/std\n",
    "    mae = np.sum(np.abs(np.sort(norm_real)-np.sort(norm_synth)))/len(r_srmr)\n",
    "    w = np.sum(np.abs(np.array(norm_real)-np.array(norm_synth)))/len(r_srmr)\n",
    "    print(var, \"mae\", mae)\n",
    "    print(var, \"w\", w)"
   ]
  },
  {
   "cell_type": "code",
   "execution_count": 50,
   "id": "662af22d",
   "metadata": {},
   "outputs": [
    {
     "data": {
      "text/plain": [
       "{'real': {'srmr': array([13.98927287, 11.86652592, 11.40171187, ..., 12.49584982,\n",
       "         14.30399955, 10.03420812]),\n",
       "  'wada': array([22.57497484, 19.66457395, 57.57474239, ..., 29.8892214 ,\n",
       "         27.80591168, 28.47415915]),\n",
       "  'pc1_inter': array([ 2.56478095e-01,  3.24121786e-01,  3.49764864e-01, -3.07793536e-01,\n",
       "          4.15060379e-01, -2.69630391e-01,  2.09646342e-01,  3.32945498e-01,\n",
       "         -2.45930092e-01, -4.11906734e-01, -3.51359387e-01, -1.06951211e-01,\n",
       "          3.65464871e-01,  1.26789066e-01, -2.27348705e-01,  2.31820720e-01,\n",
       "          1.03907309e-02, -2.49162768e-01, -2.06266984e-01, -2.05073187e-01,\n",
       "          1.67671368e-01,  2.70766338e-01, -3.62962824e-01, -1.68672518e-03,\n",
       "         -1.64748679e-01, -1.59994364e-01,  8.75063824e-02,  2.83669323e-01,\n",
       "          2.46013345e-02,  1.97539300e-01, -2.22181261e-01,  3.63926360e-01,\n",
       "         -4.23452050e-01,  2.54494387e-01,  3.95776159e-02,  2.69189322e-01,\n",
       "          2.82950047e-01, -3.34768532e-01,  2.33174574e-01, -1.64211258e-01,\n",
       "          2.65552984e-01,  4.67595272e-01,  3.66097574e-01,  1.35329453e-01,\n",
       "          3.98460281e-01, -7.00284163e-02, -2.11633653e-01,  1.35528456e-01,\n",
       "          1.40223347e-01, -1.96415176e-01, -3.72850829e-01, -2.33552055e-01,\n",
       "         -1.41648204e-02, -2.26163512e-01,  1.44732509e-01,  4.10052028e-01,\n",
       "          2.90891962e-01,  1.60472043e-01, -3.27655103e-01, -3.08300640e-01,\n",
       "          3.37545643e-01, -3.25364836e-01, -3.03237889e-01, -2.58222815e-01,\n",
       "         -1.45034965e-01, -2.87409281e-01, -2.43509844e-01,  1.04476991e-01,\n",
       "         -1.34488131e-01, -4.04039152e-01,  2.31147908e-01, -4.04907761e-01,\n",
       "         -3.73368235e-01,  4.33016959e-01,  2.48372766e-01,  1.43175440e-01,\n",
       "          1.84187918e-01, -4.79410305e-01,  1.24807913e-01,  2.11635819e-01,\n",
       "          3.78837060e-01,  2.69863477e-01,  2.04236151e-01,  2.13663366e-01,\n",
       "         -1.45915044e-01, -7.74136034e-02,  2.90125734e-01, -9.95971907e-02,\n",
       "          4.31833975e-01, -2.80929696e-01,  3.38532432e-01,  4.22925816e-01,\n",
       "          1.59737457e-01,  2.91802305e-01, -2.79338256e-01,  1.75311681e-01,\n",
       "          4.56317472e-01,  3.51335735e-01, -3.22079786e-01, -2.15898965e-01,\n",
       "         -2.95129624e-01, -3.92854948e-01, -2.29247252e-01,  3.04944566e-01,\n",
       "          3.16586157e-01,  2.09709650e-01, -2.95560131e-01, -2.35242856e-01,\n",
       "          2.74609072e-01,  3.39967358e-01, -2.55954057e-01, -3.41228561e-01,\n",
       "          2.05489965e-01,  1.97173180e-01, -1.46233325e-01,  1.28517741e-01,\n",
       "          2.25221266e-01,  9.14130422e-02, -2.31483550e-01,  1.06357137e-01,\n",
       "          4.00869468e-01, -3.25279674e-01,  1.85476603e-01,  3.31473549e-01,\n",
       "          7.97649062e-02,  4.10362990e-01,  4.59736191e-01, -2.87219971e-01,\n",
       "          1.07684958e-01,  3.36475366e-01, -2.74534241e-01,  2.07740375e-02,\n",
       "          1.26949817e-01,  1.47890396e-01,  2.02480804e-01,  2.30149051e-01,\n",
       "         -2.86381078e-01,  3.19923666e-01, -6.07516384e-02, -3.33779329e-01,\n",
       "         -3.60127478e-01,  1.57092931e-01, -3.05503264e-01,  3.57171258e-01,\n",
       "          1.66162768e-01,  1.67119001e-01,  2.80850394e-01,  3.24793387e-01,\n",
       "          3.05935657e-01,  1.77676921e-01,  3.49420964e-01,  6.80066976e-02,\n",
       "         -1.69593203e-01, -4.07702711e-01, -3.19141861e-01, -3.08740587e-01,\n",
       "          2.79380948e-01,  3.11781539e-01, -1.61529971e-01, -1.75808397e-02,\n",
       "          5.11232800e-02,  2.77217420e-01,  2.65886548e-01, -1.42462859e-01,\n",
       "         -1.79647029e-01, -1.04233404e-02, -2.37526377e-01,  3.62036129e-01,\n",
       "          1.06601228e-01,  2.80656452e-01, -3.65755621e-01, -1.10627448e-01,\n",
       "         -2.84156304e-01, -2.50085407e-01,  9.71037513e-03,  2.66936372e-01,\n",
       "          2.32874754e-01,  3.53423121e-01, -8.92099377e-02, -1.47702792e-02,\n",
       "          2.33723837e-01,  3.51104846e-01, -2.73907347e-01,  1.00486128e-01,\n",
       "          2.06211459e-01, -3.38469621e-01, -3.08399840e-01, -1.85139014e-01,\n",
       "         -3.57728274e-01,  4.01439109e-01, -2.22781764e-01,  3.34795804e-01,\n",
       "          2.96889038e-01, -3.70460150e-01,  2.25552943e-01,  3.03776140e-01,\n",
       "         -1.88639836e-01, -2.08095514e-01, -3.20264675e-01,  1.77418641e-01,\n",
       "          3.65924901e-01, -3.59512921e-01, -2.29823693e-01,  3.93404578e-01,\n",
       "          4.28274642e-01, -3.10800389e-01, -3.44316609e-01,  3.03775038e-01,\n",
       "         -1.74935460e-01, -1.00818199e-01, -2.44879268e-01,  3.06842468e-01,\n",
       "          2.37761952e-01, -3.03728656e-01,  2.87056297e-01,  2.27430591e-01,\n",
       "          1.80026565e-01,  1.54154340e-01,  2.29365796e-01, -3.49481623e-01,\n",
       "          3.54467730e-01, -2.70149901e-01, -3.05144016e-01,  1.82084682e-01,\n",
       "          2.99548258e-01, -3.57361340e-01,  2.58381620e-01, -2.40264187e-01,\n",
       "          2.29142173e-01,  1.53599044e-01,  2.37655596e-01, -2.38652016e-01,\n",
       "         -3.27746850e-01,  1.29576228e-01,  1.82936744e-01,  1.14548179e-01,\n",
       "         -3.37307022e-01,  3.72232080e-01,  3.43813396e-01, -3.32456791e-01,\n",
       "          2.98766534e-01,  4.53999356e-02, -2.20964890e-01, -3.62724267e-01,\n",
       "         -2.18718036e-01,  3.25999987e-01, -3.70404529e-01,  1.20810018e-01,\n",
       "         -2.06325714e-01,  1.54621181e-01, -1.35450691e-01, -1.54953573e-01,\n",
       "          2.81480402e-01,  1.55557204e-01, -4.14648310e-01,  3.23308274e-01,\n",
       "         -2.86858315e-01,  4.10884194e-01,  4.41914740e-01,  1.53847017e-01,\n",
       "         -1.78133372e-01,  2.53160998e-01,  1.09066691e-01,  3.08370444e-01,\n",
       "         -2.81504516e-01,  3.84605862e-01,  5.63951426e-02, -1.05242841e-02,\n",
       "         -2.06427477e-01, -1.76805770e-01, -4.02151564e-01, -3.60632838e-01,\n",
       "          1.34341220e-01,  4.63560335e-02,  1.45869432e-01,  3.09240479e-01,\n",
       "         -2.06898268e-01, -2.92239879e-01,  2.27910342e-01,  4.67904950e-01,\n",
       "         -9.12639313e-03, -2.17557317e-02,  2.24209006e-01,  2.28816115e-01,\n",
       "          2.53481815e-01,  1.95256377e-01,  2.33107912e-01, -1.28633249e-01,\n",
       "         -3.10472415e-01, -2.70531015e-01,  1.50387040e-01,  2.38702006e-01,\n",
       "         -2.33622655e-01, -1.78996174e-01,  1.65668819e-01,  3.63660762e-02,\n",
       "          7.73224905e-02,  1.98610974e-01,  2.36175627e-01,  1.34248849e-01,\n",
       "         -3.49903946e-01,  1.13105838e-01,  1.03055108e-01, -1.62442996e-01,\n",
       "          3.32980907e-01,  3.76839192e-01, -4.69640834e-02, -2.37532669e-01,\n",
       "         -2.14318020e-01, -4.80146222e-01,  2.15302590e-01, -1.33055192e-01,\n",
       "         -2.60895413e-02,  2.57286930e-01, -2.34452963e-01, -3.32703144e-01,\n",
       "          6.86623846e-02, -3.70948155e-01, -1.57429564e-01, -2.02077981e-01,\n",
       "          4.01664036e-01, -2.49142607e-01,  4.45068043e-01,  3.05105794e-01,\n",
       "          1.99197180e-01, -3.17713723e-01, -2.98661630e-01, -3.69431644e-01,\n",
       "         -3.08920958e-01, -3.77645155e-01,  1.54426769e-01, -1.94440327e-01,\n",
       "         -1.54262689e-01, -1.00806903e-01, -4.25737179e-02, -3.18460468e-01,\n",
       "          4.70607757e-01,  1.60490642e-02,  3.41900158e-01,  3.22915216e-01,\n",
       "         -2.48625219e-01,  5.35347651e-02,  4.51300738e-01, -3.83045965e-01,\n",
       "         -1.77824548e-01, -8.10052791e-02,  3.65699081e-01, -1.36369637e-01,\n",
       "         -1.57211796e-01,  2.43571444e-01,  3.34806239e-01, -3.76430716e-01,\n",
       "         -1.35600530e-01,  3.84878336e-01,  1.14893724e-01, -3.14255599e-01,\n",
       "          1.93319136e-01, -1.75728130e-01, -3.45699593e-01, -3.25457275e-01,\n",
       "         -2.49928939e-01,  1.76837195e-01, -1.40749564e-01, -3.08342709e-01,\n",
       "         -2.36500082e-01, -2.53409848e-01, -4.21168179e-01,  1.97488873e-01,\n",
       "          1.88618642e-01,  2.76264503e-01, -1.08017934e-01, -2.54317532e-01,\n",
       "          3.66057340e-02, -2.65691203e-01, -5.51846266e-02, -2.93608340e-01,\n",
       "          9.31386682e-02, -4.97741320e-02, -2.13872438e-01,  1.00109710e-01,\n",
       "         -2.36017617e-01,  1.91645331e-01,  1.48619546e-01, -2.79504808e-01,\n",
       "         -2.77579067e-01,  1.59524501e-01,  2.00681462e-01,  3.27961516e-01,\n",
       "          4.44634386e-01, -3.68372047e-01,  3.00121033e-01,  3.79776918e-01,\n",
       "         -3.45850879e-01, -1.50751965e-01, -2.15797444e-01, -4.01380495e-01,\n",
       "         -3.78445913e-01,  1.00749696e-01, -2.91072033e-01,  1.38823356e-01,\n",
       "         -1.85190246e-01, -2.26682476e-01, -1.79996941e-01,  2.83037432e-01,\n",
       "         -1.75515767e-01, -4.32339467e-02, -2.29781975e-01, -2.41374345e-01,\n",
       "         -2.38286119e-01,  2.69730267e-01, -3.02098705e-03, -2.41641529e-01,\n",
       "          3.03511356e-01, -1.06884236e-01,  2.77890457e-01, -2.73550472e-01,\n",
       "          3.74532146e-01, -3.93055095e-01, -3.37392162e-02,  2.99486606e-01,\n",
       "         -3.74708487e-01, -2.58118008e-01,  1.32915193e-01, -3.92290496e-01,\n",
       "         -1.87279839e-01, -4.14628900e-01, -1.32927049e-01,  4.67986089e-01,\n",
       "         -2.10529555e-01,  2.16602779e-01,  4.19435623e-01,  2.95341435e-01,\n",
       "          1.66551417e-01, -6.09746016e-02, -3.03890745e-01, -1.43641782e-03,\n",
       "         -2.90783690e-01,  2.90823608e-02,  3.22068680e-01,  5.67924553e-02,\n",
       "         -3.47043327e-01, -3.32274665e-01, -1.63135516e-01,  3.01405174e-01,\n",
       "          5.69157176e-05, -2.16180555e-01,  3.28341345e-01,  2.63103106e-01,\n",
       "          4.42768804e-01,  4.30663730e-01, -3.45551132e-01,  2.27842276e-01,\n",
       "         -5.71135470e-02, -2.84282560e-01, -1.49882831e-01, -4.30784009e-01,\n",
       "          3.59864160e-01,  2.27557959e-01, -1.89424891e-02,  4.38792680e-01,\n",
       "         -2.03982706e-02,  1.82592793e-01, -2.39036591e-01,  1.86285294e-01,\n",
       "         -2.26387900e-01, -2.96474282e-01, -4.09018129e-01,  3.05553529e-01,\n",
       "         -3.81172788e-01, -3.01129923e-01, -2.04775135e-01, -3.18242838e-01,\n",
       "         -2.00276930e-01, -1.37003883e-01, -2.81812062e-01, -2.36752989e-01,\n",
       "          2.54238798e-01,  3.85488320e-01, -4.29785272e-02, -3.74118097e-01,\n",
       "         -3.39341481e-01, -2.89090927e-01,  4.86436544e-01,  3.30408413e-01,\n",
       "          1.29083450e-01, -3.35054731e-01, -2.15613116e-01, -1.63220766e-01,\n",
       "         -2.31591742e-01, -2.99453722e-01, -2.63313522e-01,  1.21414132e-01,\n",
       "         -3.97815805e-02,  2.61426278e-01,  2.46422050e-01, -3.10118291e-01,\n",
       "          3.44174622e-01, -2.63350708e-01, -2.69701213e-01, -2.71970602e-01,\n",
       "         -1.81562191e-01,  1.81681358e-01, -1.99627410e-01, -2.24239848e-01,\n",
       "          1.98516456e-01, -2.13995594e-01, -2.64458667e-01, -2.41961159e-01,\n",
       "          2.50431451e-01, -2.28203542e-01,  1.98239898e-01,  4.31149317e-01,\n",
       "          1.27429490e-02, -1.81487219e-01,  2.95190738e-01,  1.90412950e-01,\n",
       "          1.80332011e-01, -2.01759417e-01,  3.91367259e-01,  1.83341822e-01,\n",
       "         -1.47924768e-01, -3.26036091e-01, -1.07763319e-02,  7.81844777e-02,\n",
       "         -3.07052570e-01, -2.81039991e-01, -3.10114867e-01,  3.13925120e-01,\n",
       "         -3.25163964e-01,  3.41760951e-01,  1.02721725e-01, -2.71827049e-01,\n",
       "          1.11261450e-01, -1.60517776e-01,  3.46468677e-01, -3.65602628e-01,\n",
       "          3.26658256e-01,  3.94040328e-01, -1.08721980e-01,  1.63867735e-01,\n",
       "          3.04005044e-01, -2.24865519e-01,  1.77727386e-01,  3.02209746e-01,\n",
       "         -2.39127068e-01,  2.77912737e-01,  8.32939323e-02,  2.90152025e-01,\n",
       "          3.54975133e-01, -3.91822288e-01, -2.29089785e-01, -2.85799871e-01,\n",
       "          4.35302097e-01, -1.42252178e-01, -3.58386626e-01,  1.44478037e-01,\n",
       "          3.28945780e-01, -2.37096764e-01, -2.73145819e-01,  2.94031929e-01,\n",
       "          1.33797903e-01, -1.85456718e-01,  4.89628390e-01,  2.17128406e-01,\n",
       "         -2.69094469e-01, -3.97757284e-01,  1.67990607e-01, -2.39750223e-01,\n",
       "         -2.33889203e-01,  4.12433345e-01, -4.31020123e-02, -2.12528888e-01,\n",
       "         -2.81809207e-01,  2.22597533e-01,  3.05564788e-01, -1.71503667e-01,\n",
       "         -3.91135116e-01,  3.09043606e-01, -3.01781085e-01, -2.97938941e-01,\n",
       "         -9.45328337e-02, -2.70100312e-01,  2.41701583e-01, -1.86823685e-01,\n",
       "         -2.40633912e-02,  2.28920986e-01,  2.48647312e-01,  2.53726562e-01,\n",
       "          3.76738245e-01, -5.95093210e-02, -4.39992710e-01,  2.68260648e-01,\n",
       "         -8.94482085e-02,  9.40688867e-02, -3.75926309e-01, -3.08976918e-01,\n",
       "         -1.81156267e-01,  1.94066318e-01, -2.46313403e-01, -3.18892478e-01,\n",
       "         -8.80885730e-02, -1.48719302e-01,  9.92930916e-02, -2.95985300e-01,\n",
       "          2.70357135e-01, -3.77824133e-01,  1.94143847e-01,  9.84569877e-02,\n",
       "          3.21336037e-01,  1.45840402e-01,  1.93968676e-01, -6.15055643e-02,\n",
       "          2.41592633e-01,  2.10942071e-01,  3.87096225e-01,  8.22916887e-02,\n",
       "          1.80938434e-01,  4.29824771e-01, -2.52002320e-01,  3.70194586e-02,\n",
       "          2.33848230e-01,  1.29686821e-01, -2.00428898e-01, -1.63131124e-01,\n",
       "         -2.14785253e-01, -3.08679558e-01, -2.30181173e-01,  3.42734076e-01,\n",
       "         -2.35071763e-01, -2.31302842e-01,  2.37289557e-01, -4.60628731e-01,\n",
       "          3.64383575e-01, -2.49513875e-01, -3.15891009e-01, -4.77623991e-01,\n",
       "          1.60634798e-01,  2.66256813e-01,  2.08735058e-01,  2.57289074e-01,\n",
       "          2.92946974e-01,  4.88908607e-02,  1.83921319e-01, -3.10975647e-01,\n",
       "          4.27899937e-03, -3.22594987e-01,  3.22526872e-01, -1.87325086e-01,\n",
       "         -4.48550807e-01, -1.32956744e-01, -2.65049157e-02,  3.63075410e-01,\n",
       "         -2.85848568e-01, -1.42562079e-01,  2.14351677e-01,  2.74159873e-01,\n",
       "         -2.37890873e-01,  1.95426946e-01,  2.99102092e-01, -7.01795753e-02,\n",
       "         -2.12738524e-01,  2.33689015e-01,  2.46772013e-01,  2.65417670e-01,\n",
       "          4.65664836e-01, -9.65872147e-02,  1.83560269e-01, -3.25821939e-01,\n",
       "         -3.82445105e-01, -3.36180476e-01, -2.78764150e-01,  3.65788301e-01,\n",
       "          8.72804285e-02,  1.00579201e-01, -2.43670851e-01, -1.66717475e-01,\n",
       "         -1.81939969e-01,  3.83006569e-01, -3.44388230e-01, -2.60751783e-01,\n",
       "         -4.53041156e-01,  2.75057118e-01,  2.02915398e-01,  3.68672290e-01]),\n",
       "  'pc2_inter': array([ 0.24929746,  0.0548149 ,  0.2305484 , -0.00748502, -0.23126582,\n",
       "         -0.16498731,  0.1388515 , -0.31525553, -0.03663051,  0.00928071,\n",
       "          0.21373114, -0.10067603, -0.10978338,  0.13741026,  0.05492059,\n",
       "          0.26012863,  0.43213602,  0.08291577, -0.29096511,  0.56609773,\n",
       "          0.42573946, -0.13665427,  0.19224432, -0.16116872, -0.21653299,\n",
       "         -0.24388556, -0.20210353, -0.36355617,  0.15816422, -0.26313389,\n",
       "          0.12325538,  0.0395857 ,  0.24018372,  0.31789571, -0.20132114,\n",
       "         -0.0365875 , -0.10410179, -0.37952368,  0.0587224 , -0.41687781,\n",
       "         -0.00637231, -0.15705671,  0.23090454, -0.16755867, -0.1719575 ,\n",
       "         -0.25022173, -0.17741673,  0.34640443, -0.11134501, -0.33058031,\n",
       "         -0.15263405, -0.1929408 , -0.05221194,  0.02424159, -0.18832334,\n",
       "         -0.08849975,  0.07587102, -0.16760759,  0.04384051, -0.28844558,\n",
       "         -0.06558195,  0.11636718, -0.01390493, -0.0085088 ,  0.08233132,\n",
       "         -0.27959437,  0.09105003, -0.14139981, -0.10642942, -0.31453902,\n",
       "          0.22317241, -0.09711326,  0.20588473,  0.03149773,  0.29273606,\n",
       "          0.45963528, -0.19403993, -0.33632534, -0.23118829,  0.16457353,\n",
       "         -0.09739641,  0.18311438, -0.39303803,  0.50898949, -0.18631865,\n",
       "          0.04942938,  0.08615815, -0.0397104 ,  0.0868941 , -0.05532729,\n",
       "          0.19147066,  0.17030167, -0.0721212 , -0.16136155,  0.23322132,\n",
       "          0.22020166, -0.10078743, -0.12896656, -0.13518688,  0.34850945,\n",
       "         -0.00236291,  0.09133184,  0.10297468,  0.01592589,  0.25762013,\n",
       "         -0.18606955,  0.36678771,  0.11458789, -0.08974444, -0.12044974,\n",
       "          0.09887096, -0.28616964, -0.21633199, -0.06484913, -0.36400194,\n",
       "         -0.23151185,  0.26158639, -0.14862673,  0.11857523, -0.11881637,\n",
       "          0.18820762,  0.17540487,  0.41064917,  0.34947912,  0.04096643,\n",
       "         -0.18167591, -0.13425068,  0.06943259,  0.27847735, -0.14828849,\n",
       "         -0.22986086,  0.19182849,  0.02081863, -0.23119949, -0.23190612,\n",
       "         -0.17179211, -0.0716922 , -0.03875087, -0.04233961, -0.17380255,\n",
       "         -0.31917275, -0.32187039,  0.05655362,  0.07390341, -0.06710318,\n",
       "         -0.14482648,  0.06572746, -0.05659844,  0.16857658, -0.26368552,\n",
       "         -0.19015491, -0.08319391,  0.18136868,  0.29407475,  0.04794172,\n",
       "          0.09415391, -0.02749183,  0.11331391, -0.13372041,  0.40427737,\n",
       "          0.49968027,  0.28367627, -0.10577242, -0.28142462,  0.0024207 ,\n",
       "         -0.30106154,  0.14449711, -0.03915826,  0.52715384, -0.15469609,\n",
       "         -0.17415357,  0.54732725, -0.13620583,  0.1441552 , -0.00647392,\n",
       "         -0.11473403, -0.11615641, -0.1095859 , -0.22567645,  0.56845263,\n",
       "         -0.04011897, -0.1064047 , -0.10302926,  0.13060707, -0.19625118,\n",
       "          0.06654204, -0.12935062, -0.09094358, -0.2545148 , -0.22165512,\n",
       "         -0.25472327,  0.34610884, -0.08144253, -0.04752566,  0.18989134,\n",
       "         -0.10784064,  0.11738136, -0.30728029,  0.07989122,  0.45449636,\n",
       "          0.15153924, -0.23198543, -0.07203102, -0.19272664,  0.04467636,\n",
       "          0.02827917,  0.03251417, -0.38646522, -0.05292699, -0.26668465,\n",
       "          0.13440975, -0.27888967,  0.55106682, -0.25523214,  0.01350326,\n",
       "         -0.08428797, -0.24532504, -0.21969099, -0.12080795,  0.20670985,\n",
       "          0.16520394,  0.19214446, -0.35752245, -0.16953953,  0.02887836,\n",
       "          0.1973427 ,  0.27794039,  0.23101078,  0.29644777, -0.3709666 ,\n",
       "         -0.0165012 ,  0.49868597,  0.02524392,  0.11250809,  0.52468301,\n",
       "         -0.22222107,  0.00737992,  0.01500124,  0.24152248,  0.11639736,\n",
       "          0.04004995, -0.26509233, -0.22394477,  0.20090484, -0.35321287,\n",
       "         -0.07308212,  0.32690589, -0.15632781, -0.08669081,  0.43015429,\n",
       "          0.10308037, -0.12219156,  0.075573  , -0.12388346,  0.12518106,\n",
       "         -0.08372358, -0.32304289, -0.2977873 , -0.11550817, -0.0499596 ,\n",
       "          0.12115728,  0.19531708, -0.23845092, -0.17953133, -0.00769632,\n",
       "          0.126534  ,  0.64901406, -0.25611027, -0.21543871, -0.09440576,\n",
       "          0.2509574 ,  0.08052239, -0.08128524,  0.41559962, -0.05609022,\n",
       "         -0.10939635, -0.21314563, -0.07860523,  0.04293769,  0.14990452,\n",
       "         -0.03976556,  0.49743563,  0.34345514, -0.04226369, -0.52563685,\n",
       "         -0.43264953, -0.3128382 , -0.1222374 , -0.26417596,  0.32280196,\n",
       "         -0.09365462, -0.38579029, -0.36719385,  0.20831346, -0.01598305,\n",
       "          0.05520267, -0.06439654,  0.42278659, -0.06529728,  0.55161653,\n",
       "         -0.17545041, -0.03211374, -0.25725804, -0.00217604, -0.29534021,\n",
       "          0.00103243, -0.06631797, -0.26941531,  0.27911387, -0.18718496,\n",
       "          0.12770908,  0.08960747, -0.24568708, -0.28251174,  0.11657058,\n",
       "         -0.36529457,  0.57874078,  0.08629381, -0.1586594 , -0.04011642,\n",
       "         -0.23953301,  0.07604926, -0.12644324, -0.21796275, -0.07748805,\n",
       "          0.243568  ,  0.11887834,  0.14997265, -0.01994326,  0.2749121 ,\n",
       "          0.43077157, -0.12192502, -0.42984551,  0.00237178, -0.1296399 ,\n",
       "          0.15741985, -0.12683858,  0.18966883, -0.10425863, -0.17536984,\n",
       "         -0.36600699,  0.00671553, -0.04135496,  0.20183606,  0.2538768 ,\n",
       "          0.15853656,  0.16289691,  0.07659277, -0.04110715, -0.08649715,\n",
       "         -0.22433246, -0.0022551 , -0.33662578, -0.18605089, -0.22646453,\n",
       "         -0.00416642,  0.14929237,  0.18979636, -0.09316074, -0.0180227 ,\n",
       "         -0.36028099,  0.20711867,  0.20045783,  0.17835985,  0.10170403,\n",
       "          0.15354589,  0.17303951,  0.12182293,  0.03407484, -0.43003678,\n",
       "          0.06993095, -0.32722231,  0.26802878,  0.29505647,  0.48576886,\n",
       "         -0.18793721,  0.61807586,  0.07887098, -0.1796909 ,  0.61819868,\n",
       "          0.00808645,  0.49300502,  0.41987007, -0.20541717,  0.12006611,\n",
       "         -0.22969089, -0.35946678,  0.12716932, -0.05048267, -0.11349727,\n",
       "          0.14575499,  0.09504393, -0.17699683, -0.0046666 , -0.13619719,\n",
       "          0.04520827,  0.2559414 , -0.18812975, -0.12425357, -0.03936882,\n",
       "          0.02353881, -0.29595143, -0.20001518, -0.28597234, -0.16741514,\n",
       "          0.04096964, -0.30232756, -0.41604124, -0.26953385, -0.01235481,\n",
       "          0.06863923,  0.05825785, -0.02906779,  0.20615227,  0.26536577,\n",
       "         -0.00570149, -0.3397063 ,  0.08276804,  0.0190627 , -0.33682422,\n",
       "         -0.01064365, -0.08542126,  0.53004768, -0.17288367, -0.43798512,\n",
       "          0.02817332,  0.01836599,  0.1068405 ,  0.07217688, -0.07858395,\n",
       "         -0.27094504, -0.13170597, -0.11766362,  0.07875827,  0.11320401,\n",
       "         -0.19770487, -0.20518993,  0.01276476, -0.20755873, -0.23516348,\n",
       "          0.23690268, -0.31968635,  0.14266189, -0.17482057,  0.4622059 ,\n",
       "          0.29388008, -0.08298745,  0.18358943,  0.05648215, -0.05620616,\n",
       "         -0.1263237 , -0.10080097,  0.05435199,  0.18561414,  0.15618163,\n",
       "         -0.32926618,  0.08122315,  0.34325013,  0.08160385, -0.03052429,\n",
       "          0.13640872, -0.30647682,  0.14451044, -0.20207013, -0.32984358,\n",
       "         -0.09339439, -0.18264765,  0.27777751, -0.12651309,  0.19427759,\n",
       "         -0.0352834 ,  0.16396887, -0.04685936, -0.18101236,  0.01828499,\n",
       "         -0.10540832,  0.13867249,  0.11683863, -0.03097601,  0.28246412,\n",
       "          0.08171654,  0.11603828,  0.06956208, -0.19451142,  0.21419226,\n",
       "         -0.11262852, -0.23582492,  0.14330273,  0.17823435,  0.37154535,\n",
       "         -0.04501545, -0.07662509, -0.19331937,  0.23418389,  0.38065825,\n",
       "         -0.00735024, -0.30170659, -0.11231782, -0.30257192, -0.01622974,\n",
       "         -0.12382506, -0.12377803, -0.10242609, -0.40317499, -0.00299221,\n",
       "          0.06694202, -0.38187576,  0.18963588, -0.35783464, -0.25838377,\n",
       "          0.25792296, -0.11500488,  0.23046021,  0.05808549, -0.0620108 ,\n",
       "         -0.11583924, -0.29931718, -0.03789598,  0.18622088,  0.3148354 ,\n",
       "         -0.08615459,  0.07172264,  0.42002638,  0.20055729,  0.24961808,\n",
       "          0.08108828,  0.07228266,  0.3697458 ,  0.37390618,  0.33165895,\n",
       "         -0.26718493,  0.09668988, -0.30111542,  0.09948807, -0.24031005,\n",
       "          0.28087441,  0.41128516, -0.3216544 , -0.07037614, -0.28110498,\n",
       "         -0.24313503, -0.04876692, -0.14994007,  0.22186088,  0.0255288 ,\n",
       "          0.15404978, -0.0353075 ,  0.36709455, -0.06180706,  0.0428615 ,\n",
       "         -0.38465424, -0.26186803, -0.1189054 ,  0.09465684,  0.09747623,\n",
       "          0.13221203,  0.19133564, -0.01949394, -0.09364866,  0.19383013,\n",
       "          0.22917025,  0.13697109, -0.14438748,  0.07213573,  0.28984182,\n",
       "         -0.20197241, -0.42877383, -0.29047085,  0.20264085, -0.08646677,\n",
       "         -0.16832072, -0.10415479, -0.04177311,  0.35525913, -0.08958152,\n",
       "         -0.03455575,  0.27326942,  0.31654969,  0.35602552, -0.12356601,\n",
       "          0.30748658, -0.1217009 , -0.26146638,  0.05268226,  0.50304855,\n",
       "         -0.15318076, -0.18005877, -0.25961903, -0.1808165 ,  0.28958218,\n",
       "         -0.14673321,  0.37912859,  0.20998753,  0.34613543, -0.13450695,\n",
       "          0.01240133,  0.02884821, -0.00871881,  0.10203595,  0.03307631,\n",
       "          0.41840452,  0.05235321, -0.00470239, -0.01794847,  0.3814288 ,\n",
       "         -0.16168541,  0.08040126, -0.22398362,  0.00483952,  0.10285529,\n",
       "         -0.21337421,  0.08536408,  0.12225164, -0.20582728, -0.12358704,\n",
       "          0.09391863,  0.29263681, -0.30627292, -0.11482497, -0.30455842,\n",
       "         -0.00379629, -0.35852834, -0.13491503,  0.09626598, -0.17425027,\n",
       "          0.09301739, -0.50671588, -0.0916198 ,  0.06900813, -0.01014294,\n",
       "          0.46391898,  0.24838034, -0.02311545, -0.06771442, -0.09389998,\n",
       "          0.04316834, -0.01389136,  0.33596464,  0.45851069, -0.29119873,\n",
       "          0.24313868,  0.0467358 ,  0.0562103 , -0.10196019, -0.36438775,\n",
       "          0.13493439,  0.12684586, -0.46424329, -0.01976688, -0.0597539 ,\n",
       "          0.4890742 , -0.02173802,  0.1039797 ,  0.12989645, -0.47497802,\n",
       "          0.39803827,  0.19935001,  0.21897745, -0.19972041, -0.09763952,\n",
       "          0.17565156, -0.11251775, -0.00327589,  0.08565342,  0.03354098,\n",
       "         -0.18131498,  0.01175864, -0.14550287,  0.10586911, -0.01693082,\n",
       "          0.46539724, -0.11764004,  0.25266538,  0.39196795,  0.07959524,\n",
       "         -0.17892526,  0.27074471, -0.00718815, -0.08460823,  0.08590931,\n",
       "          0.13829619, -0.20599375, -0.28782302, -0.00208089]),\n",
       "  'pc1_intra': array([-0.1433298 ,  0.03561773, -0.0440372 , ..., -0.12802325,\n",
       "          0.05516751,  0.02614324]),\n",
       "  'pc2_intra': array([ 0.16244845, -0.10546384,  0.03095368, ..., -0.03134143,\n",
       "         -0.18605966,  0.0760902 ]),\n",
       "  'f0': array([122.81763138, 133.42817334, 100.40018006, ..., 112.88462429,\n",
       "         126.52792094, 105.02667212]),\n",
       "  'e': array([1.7712821, 3.1678448, 1.114337 , ..., 2.6902652, 1.5047339,\n",
       "         1.5488979], dtype=float32),\n",
       "  'd': array([6.72340426, 6.13043478, 6.83950617, ..., 6.67647059, 7.3490566 ,\n",
       "         7.11538462])},\n",
       " 'synth': {'srmr': array([17.88941689, 18.58635749, 17.48456641, ..., 19.1829064 ,\n",
       "         19.10641748, 15.03393123]),\n",
       "  'wada': array([19.59426918, 17.41432923, 38.32526584, ..., 27.24492769,\n",
       "         27.39638674, 32.54113022]),\n",
       "  'pc1_inter': array([ 0.23942507,  0.43020093,  0.16657415, -0.22958024,  0.37023266,\n",
       "         -0.17564878,  0.30759363,  0.3221288 , -0.2675102 , -0.26168724,\n",
       "         -0.27460079, -0.09059241,  0.4401012 ,  0.07623771, -0.227067  ,\n",
       "          0.22191439, -0.07305115, -0.22592841, -0.01664716, -0.37026218,\n",
       "          0.09718083,  0.19166104, -0.29118032,  0.2057458 , -0.14346771,\n",
       "         -0.10918692,  0.01726619,  0.27901915, -0.01994704,  0.03155066,\n",
       "         -0.24260754,  0.19292061, -0.38598751,  0.24572644,  0.1131177 ,\n",
       "          0.33979248,  0.27261548, -0.21180938,  0.36672447, -0.13759437,\n",
       "          0.19466705,  0.47823109,  0.33049229,  0.1217519 ,  0.30705369,\n",
       "          0.00129532, -0.2158096 ,  0.06959178,  0.21891309, -0.32069484,\n",
       "         -0.34060512, -0.11281248,  0.00221671, -0.02162604,  0.23500069,\n",
       "          0.40280533,  0.24260934,  0.0707364 , -0.25624174, -0.30886736,\n",
       "          0.31015289, -0.34145308, -0.27735754, -0.12496765, -0.27337026,\n",
       "         -0.25281506, -0.252426  ,  0.18792035, -0.33822852, -0.26752232,\n",
       "          0.31216282, -0.21900173, -0.37645926,  0.40556945,  0.15983747,\n",
       "          0.06039213,  0.32482833, -0.24059574, -0.02561179, -0.01553242,\n",
       "          0.42087631,  0.18842905, -0.01578204,  0.05126827, -0.09824082,\n",
       "          0.12385006,  0.38393447,  0.06651722,  0.47420447, -0.25003232,\n",
       "          0.21878819,  0.36791617,  0.19208048,  0.26329291, -0.33926047,\n",
       "          0.32574867,  0.37587138,  0.47015119, -0.28590266, -0.34115495,\n",
       "         -0.26197459, -0.27162658, -0.30470394,  0.04929904,  0.32492523,\n",
       "          0.24561285, -0.21712194, -0.24159608,  0.3809516 ,  0.357893  ,\n",
       "         -0.2524276 , -0.24502496,  0.26504985,  0.34693726, -0.13140323,\n",
       "          0.07310696,  0.34916724,  0.08236626, -0.27502617,  0.1289718 ,\n",
       "          0.37498696, -0.21946511,  0.08806957,  0.18864306,  0.10071313,\n",
       "          0.29728356,  0.46834557, -0.34148238, -0.00995868,  0.19820053,\n",
       "         -0.13320786,  0.01575126, -0.02688344,  0.0020635 ,  0.14681745,\n",
       "          0.16207808, -0.16638438,  0.36573924, -0.17909425, -0.19039214,\n",
       "         -0.21678129,  0.36900161, -0.21331988,  0.2972688 ,  0.22791202,\n",
       "          0.26570948,  0.06931151,  0.47890727,  0.25396558,  0.17603041,\n",
       "          0.35135659, -0.12406116, -0.14422115, -0.28573951, -0.29699864,\n",
       "         -0.22362644,  0.3303773 ,  0.26608744, -0.18019914,  0.01648891,\n",
       "         -0.11154837,  0.35054537,  0.24115443,  0.01737409, -0.15924589,\n",
       "          0.1607341 , -0.34490453,  0.34511825,  0.06141064,  0.25789687,\n",
       "         -0.17798071, -0.24766045, -0.21925582, -0.34165386,  0.05808219,\n",
       "          0.37906457,  0.21208476,  0.50332213, -0.15413227, -0.14234992,\n",
       "          0.17901814,  0.49951395, -0.16562861,  0.23155687,  0.1641718 ,\n",
       "         -0.22086259, -0.20357829, -0.19968564, -0.26434965,  0.36285128,\n",
       "         -0.13094848,  0.22999819,  0.30649718, -0.17075066,  0.01286585,\n",
       "          0.26796155, -0.29503255, -0.20576867, -0.21078038,  0.12520176,\n",
       "          0.47567198, -0.22591975, -0.21239601,  0.45915223,  0.37311509,\n",
       "         -0.17549097, -0.25523989,  0.29317635, -0.24363114, -0.1571997 ,\n",
       "         -0.23455234,  0.38139481, -0.0359105 , -0.18888258,  0.44963035,\n",
       "          0.31073615,  0.07256318,  0.08139534,  0.24337718, -0.37112092,\n",
       "          0.24302282, -0.28492771, -0.13821764,  0.12953807,  0.19876391,\n",
       "         -0.31323102,  0.20166266, -0.26349956,  0.28950859,  0.10956956,\n",
       "          0.38304118, -0.27688192, -0.3093478 ,  0.22125132,  0.06884906,\n",
       "          0.15253244, -0.34331317,  0.36478984,  0.26885972, -0.27669239,\n",
       "          0.32790107,  0.04218842, -0.22279263, -0.32847669, -0.14925531,\n",
       "          0.46347358, -0.38812373,  0.1490351 , -0.18121752,  0.10484044,\n",
       "         -0.19611809, -0.1915264 ,  0.34237091,  0.2723617 , -0.44851452,\n",
       "          0.36612728, -0.21511785,  0.40231249,  0.34243399,  0.17450109,\n",
       "         -0.29089827,  0.38195822,  0.05783893,  0.32065142, -0.19076907,\n",
       "          0.24839128, -0.12646863, -0.22189864, -0.1955443 , -0.19532991,\n",
       "         -0.3984939 , -0.44319345,  0.14107016, -0.0400989 ,  0.0634122 ,\n",
       "          0.49704469, -0.21256786, -0.2232365 ,  0.4222809 ,  0.38782884,\n",
       "         -0.22362872,  0.00719118,  0.32772911,  0.31066095,  0.2365071 ,\n",
       "          0.30897299,  0.40118326, -0.13494008, -0.18924131, -0.26534361,\n",
       "          0.26866638,  0.35044227, -0.20289693, -0.28996559,  0.26113762,\n",
       "          0.23975168,  0.03242065,  0.12210433,  0.14543884,  0.20484508,\n",
       "         -0.19262571,  0.23111792,  0.20538568, -0.26178396,  0.31641073,\n",
       "          0.30139881,  0.03204627, -0.1733883 , -0.22094631, -0.27010906,\n",
       "          0.16878145, -0.20264714, -0.00306294,  0.36718842, -0.20940253,\n",
       "         -0.15789968, -0.16054197, -0.19872437, -0.17645232, -0.36862557,\n",
       "          0.39146589, -0.16260264,  0.49125185,  0.33690665,  0.3203386 ,\n",
       "         -0.22921082, -0.27238043, -0.34197792, -0.28875963, -0.37311928,\n",
       "          0.16334245, -0.26076873, -0.21366565, -0.22073548,  0.03670031,\n",
       "         -0.21798884,  0.43499925,  0.05370907,  0.19850001,  0.24578061,\n",
       "         -0.19697772,  0.21894159,  0.47171973, -0.37788825, -0.23841084,\n",
       "         -0.29990442,  0.37378216, -0.2057867 , -0.19953084,  0.16830692,\n",
       "          0.25712113, -0.2846873 , -0.22648812,  0.43338444,  0.17176447,\n",
       "         -0.30847413, -0.10271369, -0.05409955, -0.25903283, -0.29495302,\n",
       "         -0.17742908, -0.09737124, -0.20653288, -0.21908566, -0.21412603,\n",
       "         -0.2548477 , -0.36778132,  0.38569795,  0.25350841,  0.37566145,\n",
       "         -0.22281899, -0.16303381, -0.18328074, -0.33070104,  0.08673543,\n",
       "         -0.18096886,  0.0887114 , -0.17577072, -0.27680543, -0.00214028,\n",
       "         -0.25277481,  0.22273805,  0.11281201, -0.23564368, -0.29411005,\n",
       "          0.17451432,  0.09130044,  0.26416823,  0.46895189, -0.19801548,\n",
       "          0.25152519,  0.26813033, -0.23551678, -0.37081621, -0.23643053,\n",
       "         -0.24459768, -0.34407486,  0.21040725, -0.23389354,  0.27218082,\n",
       "         -0.23092538, -0.19026288, -0.1706328 ,  0.42442683, -0.14934785,\n",
       "         -0.14020652, -0.15254221, -0.21902305, -0.24711543,  0.21167012,\n",
       "         -0.20615623, -0.28881874,  0.25786526, -0.24170019,  0.11470244,\n",
       "         -0.21276834,  0.43707253, -0.32973713, -0.08825952,  0.20797406,\n",
       "         -0.27701477, -0.27096744,  0.03514407, -0.24378896, -0.12002788,\n",
       "         -0.27199219, -0.22892916,  0.45411657, -0.27647773,  0.23589682,\n",
       "          0.12071772,  0.24749082,  0.05090789, -0.29292748, -0.20436644,\n",
       "         -0.01048598, -0.17515034,  0.13327034,  0.44595313,  0.23804833,\n",
       "         -0.33367356, -0.22028364, -0.24091623,  0.24804596, -0.03386866,\n",
       "         -0.23226042,  0.35481628,  0.16886481,  0.43328411,  0.38328416,\n",
       "         -0.25551661,  0.33441454, -0.01267659, -0.19478088, -0.28366676,\n",
       "         -0.24071235,  0.40392386,  0.28384117, -0.05547812,  0.47738977,\n",
       "         -0.0621323 ,  0.18672242, -0.26210109,  0.04354488, -0.18302271,\n",
       "         -0.18574677, -0.25283936,  0.34119745, -0.17692334, -0.18589673,\n",
       "         -0.32831633, -0.28012122, -0.26478026, -0.12796812, -0.29132533,\n",
       "         -0.19489224,  0.30994776,  0.31845819, -0.13154085, -0.31246715,\n",
       "         -0.30937006, -0.28852499,  0.35081281,  0.31033468, -0.0153172 ,\n",
       "         -0.26105064, -0.16782365, -0.27891053, -0.26285337, -0.32911185,\n",
       "         -0.16009235,  0.15153266,  0.05254337,  0.24157926,  0.22200652,\n",
       "         -0.18344119,  0.4260699 , -0.22609645, -0.15378447, -0.19141029,\n",
       "         -0.12281452,  0.23727373, -0.26040465, -0.1412071 ,  0.12572477,\n",
       "         -0.27443356, -0.23719736, -0.25689022,  0.21206563, -0.24901699,\n",
       "          0.22248702,  0.34312067,  0.1418949 , -0.22444146,  0.3617898 ,\n",
       "         -0.10641153,  0.28778839, -0.20061411,  0.30217069, -0.03758144,\n",
       "         -0.18235262, -0.26458941, -0.22746244, -0.10117657, -0.25883766,\n",
       "         -0.22140866, -0.25088047,  0.17869169, -0.35024226,  0.16781574,\n",
       "          0.28224362, -0.28760472,  0.05890168, -0.34292199,  0.39236994,\n",
       "         -0.28849778,  0.32298493,  0.45125063, -0.11069806,  0.06432138,\n",
       "          0.30882486, -0.23862561,  0.30418855,  0.27099338, -0.24514523,\n",
       "          0.37983236,  0.17337711,  0.32893215,  0.28618178, -0.34806179,\n",
       "         -0.18738414, -0.21464596,  0.46011974, -0.26331619, -0.31233829,\n",
       "          0.10518506,  0.29598832, -0.21403792, -0.34521763,  0.24218576,\n",
       "          0.13549557, -0.25890135,  0.54170447,  0.20880169, -0.23868639,\n",
       "         -0.27178261,  0.28642866, -0.24625116, -0.02969136,  0.16836538,\n",
       "          0.05445839, -0.2317025 , -0.27136318,  0.34701451,  0.33757274,\n",
       "         -0.19643108, -0.3505094 ,  0.06219176, -0.23548227, -0.22802022,\n",
       "         -0.23149293, -0.24179437, -0.07722092, -0.36190698, -0.18153846,\n",
       "          0.26750955,  0.25443337,  0.25935842,  0.28677746, -0.19903204,\n",
       "         -0.34961076,  0.1550349 , -0.35927738,  0.17858367, -0.23716475,\n",
       "         -0.26292432, -0.24169788,  0.35173837, -0.29646869, -0.32256422,\n",
       "         -0.28203888, -0.27686654, -0.00932406, -0.20867654,  0.17260035,\n",
       "         -0.28528046,  0.25158259,  0.26991824,  0.20847541,  0.19135092,\n",
       "          0.37569776, -0.13779425,  0.29448806,  0.27360925,  0.34974348,\n",
       "          0.14932503,  0.12649355,  0.40451431, -0.22317918, -0.11579934,\n",
       "          0.40886253,  0.17039144, -0.21881254, -0.14196043, -0.28959915,\n",
       "         -0.28472562, -0.16067847,  0.33889972, -0.22207302, -0.1839747 ,\n",
       "          0.242091  , -0.37219571,  0.36406612, -0.23181816, -0.27225282,\n",
       "         -0.35952179,  0.17213405,  0.1838009 ,  0.08014863,  0.08982164,\n",
       "          0.13988367,  0.13169554,  0.13832216, -0.13834952,  0.17976798,\n",
       "         -0.32845333,  0.24341295, -0.13613573, -0.24980862, -0.3163676 ,\n",
       "          0.13697246,  0.39080156, -0.24821637, -0.18934468,  0.28020098,\n",
       "          0.26725349, -0.26498507,  0.14052967,  0.20402262, -0.08068624,\n",
       "         -0.24628575,  0.08001929,  0.31302627,  0.39990108,  0.42114135,\n",
       "         -0.19369718, -0.11301146, -0.22927197, -0.25825704, -0.08771124,\n",
       "         -0.33550571,  0.24372872,  0.04463726, -0.0773277 , -0.29876981,\n",
       "         -0.10117809, -0.16744171,  0.28572093, -0.27735043, -0.33664628,\n",
       "         -0.34250001,  0.4171829 ,  0.18489973,  0.29776833]),\n",
       "  'pc2_inter': array([ 1.53945215e-01,  1.19476209e-01,  2.52606673e-01,  1.83998287e-01,\n",
       "         -2.69035707e-01, -1.12055998e-01,  1.66755787e-01, -2.03045742e-01,\n",
       "         -5.72343992e-02, -6.31738111e-02,  5.03755374e-02,  4.50168788e-02,\n",
       "         -5.45120076e-02, -1.49988262e-02, -7.54114629e-03,  2.31752124e-01,\n",
       "          5.68801427e-01, -3.33126655e-02, -1.60545512e-01,  3.61467352e-01,\n",
       "          2.15350278e-01, -2.30982502e-01, -1.54785086e-02, -1.54277606e-01,\n",
       "         -9.51202852e-02, -1.75725879e-01, -1.34777326e-01, -3.03697076e-01,\n",
       "          1.72569884e-02, -2.83531609e-01, -1.93896158e-02,  2.04138441e-01,\n",
       "          1.68784774e-01,  2.04962267e-01, -1.66729286e-01, -6.10541201e-02,\n",
       "         -2.33707798e-02, -1.26663069e-01, -1.10660547e-01, -1.23622955e-01,\n",
       "          2.41400479e-03, -1.36204601e-02, -6.81773682e-02, -1.35990397e-01,\n",
       "         -3.23863914e-02, -2.07638710e-01,  1.33521861e-02,  9.61405023e-02,\n",
       "         -1.44453622e-01, -1.59708579e-01, -1.36157418e-01, -5.12690137e-02,\n",
       "         -2.26364998e-01,  1.19708752e-01, -7.58884953e-02,  2.53909785e-02,\n",
       "          1.92024016e-02, -1.79333263e-01,  1.25411376e-01, -2.34986014e-01,\n",
       "         -5.88312360e-02,  1.90618929e-01, -1.26181889e-01, -3.68344404e-02,\n",
       "          8.95589011e-02, -1.44474596e-01,  2.04967675e-01, -1.42675258e-02,\n",
       "          1.29030229e-01, -4.60864076e-01,  1.20816862e-01,  2.89615987e-02,\n",
       "          7.60299402e-02,  5.62949418e-02,  3.92847212e-01,  4.59412506e-01,\n",
       "         -3.56254868e-02, -3.05785314e-01, -8.18223350e-02,  1.48427620e-01,\n",
       "         -1.81927257e-02,  2.59279537e-01, -3.31454686e-01,  5.40215035e-01,\n",
       "         -1.16917910e-02,  3.49813411e-02, -1.40165337e-01,  3.68072998e-02,\n",
       "          1.40237888e-01, -8.11206879e-02, -3.38817856e-02,  3.49979917e-01,\n",
       "         -9.30633733e-02, -1.35726936e-01,  2.72128198e-01,  2.19011170e-01,\n",
       "         -9.27252740e-02, -2.54481489e-01, -1.26763990e-01,  2.29385161e-01,\n",
       "         -1.75465570e-01, -5.29276173e-02,  1.60275525e-01, -3.27020270e-02,\n",
       "          9.51865043e-02,  1.08855353e-03,  1.37229169e-01, -5.89410080e-02,\n",
       "         -1.16670930e-01, -1.45652565e-01,  1.99224703e-01, -2.35104704e-01,\n",
       "         -2.23165045e-01, -9.74191423e-02, -5.52725462e-02, -1.54130124e-01,\n",
       "          2.05053620e-01, -3.09583128e-01, -2.13530963e-02, -1.68324697e-01,\n",
       "          2.05098824e-01, -7.86738243e-02,  4.11611299e-01,  2.56158619e-01,\n",
       "         -7.02776536e-02, -1.10512380e-02, -1.65836663e-01,  7.86200719e-02,\n",
       "          3.05683661e-01, -1.63736502e-01, -7.26572909e-02,  2.47388449e-01,\n",
       "         -1.55023844e-01, -1.11659571e-01,  1.00374425e-01, -2.50241613e-01,\n",
       "         -1.67152330e-01,  3.43611115e-02, -9.84284437e-02, -1.60961958e-01,\n",
       "         -6.79285422e-02, -1.68547880e-01,  1.17167370e-01, -7.84367269e-02,\n",
       "         -1.84460377e-01, -2.01025376e-01,  6.03510831e-02,  2.36520974e-01,\n",
       "          3.16889381e-01, -4.41101487e-01, -3.71485811e-02, -7.51369028e-02,\n",
       "         -8.55526112e-02,  1.94375303e-01, -4.61528582e-02,  8.53714272e-02,\n",
       "         -1.71787626e-01,  3.48737184e-02, -2.99156494e-01,  3.15953106e-01,\n",
       "          3.87473093e-01,  4.53089805e-02, -2.12664011e-01, -1.98006844e-01,\n",
       "          7.64662870e-02, -2.44205253e-01,  3.92960561e-02, -1.80599151e-01,\n",
       "          4.81340554e-01, -7.23763477e-02, -1.07432146e-01,  5.64011224e-01,\n",
       "         -7.55811215e-02,  9.41143504e-02, -7.57163713e-02, -3.60963887e-01,\n",
       "          5.33492353e-02, -1.92868818e-01, -2.51573911e-01,  6.51299728e-01,\n",
       "          4.05609862e-02, -5.22097861e-02, -1.43180759e-01, -3.00073115e-02,\n",
       "         -1.08807671e-01, -1.75544050e-02, -1.13514559e-01, -6.69894468e-02,\n",
       "         -1.22575151e-01, -1.52499486e-01, -1.27157945e-01,  1.21552949e-01,\n",
       "         -1.29745889e-01, -8.14796894e-02,  2.34306311e-01, -1.05642039e-01,\n",
       "          5.35265483e-02, -1.43419260e-01,  5.76449568e-02,  3.12035621e-01,\n",
       "          8.85433459e-02, -2.06587522e-01, -2.46067315e-01, -3.16589194e-03,\n",
       "          2.00277302e-01, -6.65736965e-02,  2.58555875e-02, -2.96636338e-01,\n",
       "          1.94336612e-04, -2.35903404e-01,  1.15197784e-01, -2.66096808e-01,\n",
       "          4.90289052e-01, -1.63540800e-01,  6.04733379e-02, -2.31324987e-01,\n",
       "         -2.33625988e-01, -2.61254590e-01, -2.70838347e-02,  3.37790839e-01,\n",
       "          2.99018451e-01,  2.73513469e-02, -1.72295486e-01, -2.17727559e-01,\n",
       "          6.76763096e-02,  9.75336736e-02,  3.76753911e-01,  2.01566411e-01,\n",
       "          2.26647898e-01, -3.15611790e-01, -1.48182335e-01,  2.85219094e-01,\n",
       "          1.70988592e-01,  6.95422730e-02,  2.40448143e-01, -2.03040898e-01,\n",
       "          1.11689304e-01, -9.28717089e-03,  1.13569297e-01,  8.51981296e-02,\n",
       "          1.98851564e-01, -3.51281097e-02, -1.94744217e-01,  2.24762884e-01,\n",
       "         -1.02064540e-01, -2.12705813e-02,  3.72725794e-01, -2.02242929e-01,\n",
       "         -2.76308625e-01,  3.70386093e-01,  1.47955482e-01, -1.52642437e-02,\n",
       "          9.52231194e-02, -1.04489850e-01,  3.64194150e-01, -2.70294980e-01,\n",
       "         -2.00764085e-01, -1.00656501e-01, -1.66059583e-01,  2.28286979e-02,\n",
       "          1.39094519e-01,  9.65066318e-02, -1.70250824e-01, -2.76532766e-01,\n",
       "          1.61382621e-02,  2.85623190e-01,  4.49121074e-01, -1.45092471e-01,\n",
       "         -1.40951571e-01, -9.16714195e-02,  1.65320255e-01,  2.70622898e-01,\n",
       "         -4.81822310e-02,  5.05319357e-01, -1.22224559e-01, -1.31542693e-01,\n",
       "         -6.09780024e-02, -8.97621439e-02,  1.71717714e-02,  2.62867505e-02,\n",
       "         -9.62081249e-02,  4.38658160e-01,  1.46051825e-01,  9.00483437e-02,\n",
       "         -3.23485647e-01, -2.81353656e-01, -2.34879393e-01, -1.53520557e-01,\n",
       "         -8.29356866e-02,  6.25504170e-01, -2.25908386e-01, -2.96666401e-01,\n",
       "         -1.80804369e-01,  2.02356712e-01,  6.96311496e-02, -1.09096440e-01,\n",
       "         -2.23504667e-01,  5.13510588e-01,  1.62888600e-01,  2.26768204e-02,\n",
       "         -1.46674825e-01, -6.73267703e-04, -1.42322915e-01,  9.03443943e-02,\n",
       "         -3.19867872e-01,  1.36078476e-02,  4.56635697e-02, -4.31965441e-02,\n",
       "          4.44672545e-02, -2.63609652e-01, -7.39345486e-02,  6.80496735e-02,\n",
       "         -2.68850239e-01, -3.35659696e-01,  6.45400641e-02, -6.16947643e-02,\n",
       "          4.52102874e-01, -7.05441338e-03, -1.85582347e-01,  2.99650308e-02,\n",
       "         -6.72631561e-02, -1.17151324e-02,  2.15586734e-02, -7.83444641e-02,\n",
       "          2.88562751e-02,  7.82541066e-02,  1.95719966e-01,  6.07062301e-02,\n",
       "         -6.52092052e-02,  1.67906104e-01,  3.12169551e-01, -4.81338632e-02,\n",
       "         -1.70924272e-01, -9.59224101e-02, -2.36926259e-01,  1.09606391e-02,\n",
       "         -4.79844954e-02,  3.70084131e-01, -1.64220984e-01, -1.19348706e-01,\n",
       "         -9.04326183e-02, -2.81624933e-03,  7.11100878e-03,  3.21845809e-01,\n",
       "          1.51974248e-01,  2.34066889e-01,  2.16630402e-01,  1.42134181e-01,\n",
       "         -2.98437933e-02, -1.09591669e-01, -1.98934890e-01, -1.13211274e-01,\n",
       "         -7.82588630e-02, -1.16266100e-01, -3.33099843e-01, -1.81243291e-01,\n",
       "         -5.71903607e-02,  1.77948378e-01,  4.31513966e-02, -1.03817406e-02,\n",
       "         -2.30899431e-01,  6.32539069e-03, -4.22068403e-02,  2.44344292e-01,\n",
       "         -9.19061175e-02,  2.60411830e-01,  2.31734172e-01,  3.95703496e-02,\n",
       "         -8.96475819e-02, -3.89180910e-01, -1.96961142e-02, -1.53317625e-01,\n",
       "          3.03271058e-01,  3.52115675e-01,  5.17353998e-01, -1.42540509e-01,\n",
       "          4.31997398e-01, -1.82745919e-01, -2.47931970e-02,  5.69699841e-01,\n",
       "         -2.16991199e-02,  5.30433531e-01,  1.83434061e-01,  4.18351289e-02,\n",
       "          9.66424792e-02, -2.04611773e-01, -2.37041856e-01,  1.91148030e-01,\n",
       "         -8.96541185e-02,  6.70319845e-02,  3.60155023e-01,  5.47484193e-02,\n",
       "          3.36773821e-02,  2.62118092e-01, -8.75804527e-02, -5.67559452e-03,\n",
       "          3.57748378e-01, -1.62862125e-01, -1.43228327e-01, -1.34430345e-02,\n",
       "         -1.19937582e-01, -1.25327470e-01, -1.32434542e-01, -1.69922347e-01,\n",
       "         -1.70895046e-01, -4.71313531e-02, -1.14488150e-01, -1.72117949e-01,\n",
       "         -9.91863680e-02, -1.26430543e-02, -1.54980863e-02,  8.97338817e-02,\n",
       "         -2.06872077e-01,  2.80485778e-01,  2.53382663e-01, -1.05409973e-01,\n",
       "         -1.39871176e-01,  5.82934918e-02,  2.55457726e-02, -3.64088866e-01,\n",
       "          2.66079850e-01,  2.39402772e-02,  2.74455293e-01, -3.18678177e-02,\n",
       "         -1.92732908e-01,  1.19610647e-02, -1.19981978e-01,  2.09387136e-01,\n",
       "         -5.96249441e-02, -1.92190432e-01, -2.41685469e-01, -7.81590402e-02,\n",
       "         -1.21182025e-01,  1.45938388e-02,  3.56993197e-02, -1.65858825e-01,\n",
       "         -1.86975938e-01, -1.63767784e-04, -4.88249563e-02, -1.89046880e-01,\n",
       "          8.71727861e-02, -1.67570690e-01,  2.15625974e-01, -9.55899721e-02,\n",
       "          5.57205954e-01,  1.65537284e-01,  5.97035581e-02,  1.11769524e-02,\n",
       "          1.62154679e-01,  1.44334042e-01, -1.08789134e-01, -7.48704795e-02,\n",
       "          1.23948235e-01,  2.10807491e-01,  7.68608000e-02, -2.74702745e-01,\n",
       "          2.69932173e-01,  1.94061277e-01,  6.84923304e-02,  2.65554299e-02,\n",
       "         -1.91817719e-02, -2.53212069e-01, -1.56467664e-01, -1.92803547e-01,\n",
       "         -1.89558200e-01, -4.47169275e-02, -6.09297943e-02,  1.81721178e-01,\n",
       "         -2.00814405e-01,  5.35382451e-02,  1.72839907e-01,  2.59915451e-01,\n",
       "         -4.22665738e-02,  7.50151786e-02,  2.68355904e-02, -3.92624993e-02,\n",
       "          6.19505872e-02,  2.04442995e-01, -1.14393657e-02,  1.71775953e-01,\n",
       "          3.43445831e-02, -5.28514906e-03,  2.51661166e-01, -3.04627065e-01,\n",
       "         -4.15935126e-02, -1.72780195e-01, -1.57977732e-01,  9.07700106e-02,\n",
       "          1.09426211e-01,  1.81098956e-01, -1.14999664e-01, -6.52261850e-02,\n",
       "         -1.73247228e-01,  3.40593962e-02,  4.03725766e-01, -3.64343649e-02,\n",
       "         -2.16086345e-01, -6.95009593e-02, -1.54913886e-01, -4.19382069e-02,\n",
       "         -2.78482006e-01, -2.64147917e-02, -1.32888987e-02, -1.94027510e-01,\n",
       "         -4.64738644e-02, -8.86728406e-02, -2.37222672e-01,  8.32445415e-02,\n",
       "         -2.81190125e-01, -2.49313708e-01,  9.15013111e-02, -9.52017474e-02,\n",
       "          1.63421049e-01,  1.54878368e-01, -1.65130100e-01, -2.82433712e-01,\n",
       "         -1.48841345e-01,  1.19332787e-01, -1.15262781e-01,  4.98003418e-01,\n",
       "         -4.75132238e-02, -2.11924798e-02,  5.26078044e-01,  1.44573838e-01,\n",
       "          4.91872966e-02,  2.80259126e-02, -6.41553466e-03,  3.42902181e-01,\n",
       "          2.74873567e-01,  2.20964541e-01, -1.76550068e-01,  7.63501413e-02,\n",
       "         -2.97148552e-01,  7.16897909e-02, -3.22273378e-01,  9.91275101e-02,\n",
       "          3.95541285e-01, -1.40415603e-01, -7.34971389e-02, -1.25206344e-01,\n",
       "         -3.47258193e-01,  1.13276579e-01, -1.18307180e-01,  3.61239825e-02,\n",
       "         -3.68040890e-02,  2.54627229e-01, -8.34232404e-02,  3.58327825e-01,\n",
       "         -2.47810929e-01,  2.68017544e-02, -2.12854733e-01, -8.29124683e-02,\n",
       "         -1.77239311e-01, -1.49809367e-01, -6.75939155e-02,  1.28441595e-01,\n",
       "          3.07616297e-01,  5.17544880e-02,  1.21150347e-01,  1.95750148e-01,\n",
       "          1.92927389e-01,  2.47035147e-01, -1.61722273e-01, -7.20488528e-02,\n",
       "          8.60851859e-02, -1.85535503e-01, -3.59160932e-01, -7.13534626e-02,\n",
       "          2.08875215e-01, -2.68453481e-01, -1.58066942e-01, -2.36257975e-02,\n",
       "         -1.60459299e-02,  1.57175720e-01, -1.37501520e-01,  4.18533618e-02,\n",
       "          4.45079726e-02,  4.08791647e-01,  2.59552633e-01,  1.20601710e-02,\n",
       "          1.04225726e-01, -1.31179473e-01, -2.57897839e-01,  7.12315482e-02,\n",
       "          4.91639052e-01,  5.51566385e-02, -1.11711408e-01, -1.91522795e-01,\n",
       "         -1.40206832e-01,  1.73915911e-01,  8.11570901e-04,  5.54292905e-01,\n",
       "          1.80174707e-01,  2.03570603e-01, -1.41809414e-01, -8.42393771e-02,\n",
       "         -7.10250796e-02, -2.03264271e-02,  3.27665605e-02,  1.49556886e-01,\n",
       "          2.24453122e-01,  9.68690602e-02,  1.66330702e-02, -4.68939802e-02,\n",
       "          2.98192302e-01, -7.39695129e-02, -1.02006660e-01, -9.81506883e-02,\n",
       "         -6.07124098e-02,  3.12384210e-02, -2.00969320e-01,  3.28926687e-02,\n",
       "         -2.36977917e-02, -2.30756458e-01, -1.14020885e-01, -9.79358823e-02,\n",
       "          1.02586914e-01, -2.41967783e-01, -9.47816739e-02, -2.19961428e-01,\n",
       "          1.61311034e-02, -2.77542871e-01, -1.66194216e-02,  2.44369071e-01,\n",
       "         -1.34675531e-01,  1.11565814e-01, -3.52781107e-01,  8.30020576e-03,\n",
       "          1.19190456e-01, -1.97582261e-01,  4.12300039e-01,  1.64120198e-01,\n",
       "          1.66740614e-01, -1.41123422e-01, -2.17731582e-01,  2.36261848e-02,\n",
       "         -1.04459509e-02,  2.22501139e-02,  5.06693813e-01, -3.32081939e-01,\n",
       "          3.94071750e-01, -1.47257037e-01,  9.26027846e-02, -7.43439392e-02,\n",
       "         -2.43578610e-01,  1.54556428e-01,  1.94983658e-01, -1.19507946e-01,\n",
       "         -6.78615584e-02, -1.76683109e-01,  5.47883391e-01,  1.88727125e-01,\n",
       "          1.32236923e-01,  1.59946959e-01, -3.16535277e-01,  3.94111420e-01,\n",
       "          2.93205790e-01, -3.55773737e-02, -1.07887502e-01, -1.78038827e-01,\n",
       "          3.78087605e-02, -1.39871911e-01,  2.31322435e-01,  2.35551615e-01,\n",
       "          1.56140811e-01, -3.23444646e-02, -4.43579533e-02, -1.35347514e-01,\n",
       "         -1.00115411e-01,  5.88353178e-02,  1.89045381e-01, -1.08150588e-01,\n",
       "          1.35499640e-01,  2.46456514e-01,  6.38710523e-03,  1.62403622e-01,\n",
       "          1.25891160e-02,  1.96631971e-02, -7.96636827e-02,  2.53955120e-01,\n",
       "          1.41431093e-01, -1.24923836e-01, -3.02278071e-01, -2.00386643e-01]),\n",
       "  'pc1_intra': array([-0.02284998,  0.02940119,  0.01155629, ..., -0.04183519,\n",
       "          0.04293278, -0.10652611]),\n",
       "  'pc2_intra': array([-0.13225696, -0.23125769, -0.2161376 , ...,  0.00318794,\n",
       "         -0.07513761, -0.23206018]),\n",
       "  'f0': array([143.91671766, 143.92972565, 118.0172419 , ..., 123.2025024 ,\n",
       "         128.17110451, 121.09232823]),\n",
       "  'e': array([2.3209574, 2.1729052, 1.7063179, ..., 1.9923838, 1.7002017,\n",
       "         2.0153918], dtype=float32),\n",
       "  'd': array([6.5106383 , 6.        , 7.04938272, ..., 6.11764706, 6.48113208,\n",
       "         7.11538462])}}"
      ]
     },
     "execution_count": 50,
     "metadata": {},
     "output_type": "execute_result"
    }
   ],
   "source": [
    "results"
   ]
  },
  {
   "cell_type": "code",
   "execution_count": 51,
   "id": "fd343681",
   "metadata": {},
   "outputs": [],
   "source": [
    "import pickle\n",
    "with open(\"results.pkl\", \"wb\") as f:\n",
    "    pickle.dump(results, f)"
   ]
  },
  {
   "cell_type": "code",
   "execution_count": 53,
   "id": "94cffcf2",
   "metadata": {},
   "outputs": [],
   "source": [
    "with open(\"results.pkl\", \"rb\") as f:\n",
    "    res = pickle.load(f)"
   ]
  },
  {
   "cell_type": "code",
   "execution_count": null,
   "id": "fd4e7f93",
   "metadata": {},
   "outputs": [],
   "source": []
  }
 ],
 "metadata": {
  "kernelspec": {
   "display_name": "Python 3 (ipykernel)",
   "language": "python",
   "name": "python3"
  },
  "language_info": {
   "codemirror_mode": {
    "name": "ipython",
    "version": 3
   },
   "file_extension": ".py",
   "mimetype": "text/x-python",
   "name": "python",
   "nbconvert_exporter": "python",
   "pygments_lexer": "ipython3",
   "version": "3.8.13"
  }
 },
 "nbformat": 4,
 "nbformat_minor": 5
}
